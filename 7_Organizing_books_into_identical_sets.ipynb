{
  "nbformat": 4,
  "nbformat_minor": 0,
  "metadata": {
    "colab": {
      "private_outputs": true,
      "provenance": [],
      "authorship_tag": "ABX9TyPbVWfh/nx3J1I7XQQl9mAy",
      "include_colab_link": true
    },
    "kernelspec": {
      "name": "python3",
      "display_name": "Python 3"
    },
    "language_info": {
      "name": "python"
    }
  },
  "cells": [
    {
      "cell_type": "markdown",
      "metadata": {
        "id": "view-in-github",
        "colab_type": "text"
      },
      "source": [
        "<a href=\"https://colab.research.google.com/github/Kobe97915/Kobe/blob/main/7_Organizing_books_into_identical_sets.ipynb\" target=\"_parent\"><img src=\"https://colab.research.google.com/assets/colab-badge.svg\" alt=\"Open In Colab\"/></a>"
      ]
    },
    {
      "cell_type": "code",
      "execution_count": null,
      "metadata": {
        "id": "HQxh5dWdc8Wz"
      },
      "outputs": [],
      "source": [
        "from collections import Counter\n",
        "import math\n",
        "\n",
        "# Given bookshelf array\n",
        "shelf = [1234567, 1234567, 2345678, 2345678, 3456789, 3456789, 1234567, 2345678,\n",
        "         3456789, 4567890, 4567890, 5678901, 5678901, 6789012, 6789012, 1234567,\n",
        "         2345678, 3456789, 4567890, 5678901, 4567890, 5678901]\n",
        "\n",
        "# Count occurrences of each book\n",
        "counts = list(Counter(shelf).values())\n",
        "\n",
        "# Compute GCD of all frequencies\n",
        "gcd_all = counts[0]\n",
        "for count in counts[1:]:\n",
        "    gcd_all = math.gcd(gcd_all, count)\n",
        "\n",
        "# Output result\n",
        "\"YES\" if gcd_all > 1 else \"NO\"\n"
      ]
    }
  ]
}