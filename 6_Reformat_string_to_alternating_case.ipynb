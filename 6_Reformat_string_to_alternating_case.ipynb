{
  "nbformat": 4,
  "nbformat_minor": 0,
  "metadata": {
    "colab": {
      "private_outputs": true,
      "provenance": [],
      "authorship_tag": "ABX9TyOvnIxWCYdloziheCaRqefy",
      "include_colab_link": true
    },
    "kernelspec": {
      "name": "python3",
      "display_name": "Python 3"
    },
    "language_info": {
      "name": "python"
    }
  },
  "cells": [
    {
      "cell_type": "markdown",
      "metadata": {
        "id": "view-in-github",
        "colab_type": "text"
      },
      "source": [
        "<a href=\"https://colab.research.google.com/github/Kobe97915/Kobe/blob/main/6_Reformat_string_to_alternating_case.ipynb\" target=\"_parent\"><img src=\"https://colab.research.google.com/assets/colab-badge.svg\" alt=\"Open In Colab\"/></a>"
      ]
    },
    {
      "cell_type": "code",
      "execution_count": null,
      "metadata": {
        "id": "buJd-44Bchbs"
      },
      "outputs": [],
      "source": [
        "def alternate_case(s):\n",
        "    result = []\n",
        "    toggle = True  # Start with uppercase\n",
        "\n",
        "    for char in s:\n",
        "        if char.isalpha():\n",
        "            result.append(char.upper() if toggle else char.lower())\n",
        "            toggle = not toggle  # Switch case for the next letter\n",
        "        else:\n",
        "            result.append(char)  # Keep non-alphabet characters unchanged\n",
        "\n",
        "    return \"\".join(result)\n",
        "\n",
        "# Given input string\n",
        "s = \"Za^B8g@E2jH*kWl!MoPqXr7YvT1c$Fs3Ud9IwZ&yX0pLkV6sHqN^tB4rA+oZ%gFj\"\n",
        "\n",
        "# Compute reformatted string\n",
        "output = alternate_case(s)\n",
        "output\n"
      ]
    }
  ]
}