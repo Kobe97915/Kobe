{
  "nbformat": 4,
  "nbformat_minor": 0,
  "metadata": {
    "colab": {
      "provenance": [],
      "include_colab_link": true
    },
    "kernelspec": {
      "name": "python3",
      "display_name": "Python 3"
    },
    "language_info": {
      "name": "python"
    }
  },
  "cells": [
    {
      "cell_type": "markdown",
      "metadata": {
        "id": "view-in-github",
        "colab_type": "text"
      },
      "source": [
        "<a href=\"https://colab.research.google.com/github/Kobe97915/Kobe/blob/main/Survey_data_Project_1.ipynb\" target=\"_parent\"><img src=\"https://colab.research.google.com/assets/colab-badge.svg\" alt=\"Open In Colab\"/></a>"
      ]
    },
    {
      "cell_type": "markdown",
      "source": [
        "**Business Intelligence and Data Analytics Practical Training 2024**\n",
        "\n",
        "\n",
        "**Presentation by Eric and Nelisiwe**"
      ],
      "metadata": {
        "id": "9Ef1XgcuwAGz"
      }
    },
    {
      "cell_type": "markdown",
      "source": [
        "**Logistics Regression Model:**\n",
        "\n",
        "Logistic regression is a popular classification technique due to its simplicity, interpretability and performance.\n",
        "\n",
        "\n",
        "**The goal of this project is to get insight into the following topics:**\n",
        "\n",
        "-Being able to train a logistic regression model.\n",
        "\n",
        "-Performing which delivery methods offered by programmes.\n",
        "\n",
        "-Testing and evaluation of the trained model. Being able to assess the model by means of different classification metrics: accuracy, recall, precision,f1-score.\n"
      ],
      "metadata": {
        "id": "UI-4PHQG2XX8"
      }
    },
    {
      "cell_type": "code",
      "source": [
        "%matplotlib inline\n",
        "import random\n",
        "import numpy as np\n",
        "import pandas as pd\n",
        "import matplotlib.pyplot as plt\n",
        "from sklearn import linear_model\n",
        "import scipy.stats as stats\n",
        "from scipy.stats import f_oneway\n",
        "from sklearn.model_selection import train_test_split\n",
        "from sklearn.metrics import classification_report\n",
        "from sklearn import preprocessing\n",
        "from sklearn.preprocessing import PolynomialFeatures\n",
        "from sklearn.preprocessing import StandardScaler\n",
        "from sklearn.preprocessing import MinMaxScaler\n",
        "from sklearn.metrics import confusion_matrix, accuracy_score\n",
        "from sklearn.metrics import classification_report\n",
        "from sklearn.linear_model import LogisticRegression\n",
        "from sklearn.feature_extraction.text import TfidfVectorizer\n",
        "import seaborn as sns # fancy plots\n",
        "import warnings\n",
        "warnings.filterwarnings('ignore')"
      ],
      "metadata": {
        "id": "dSVxDmI7wE7Y"
      },
      "execution_count": null,
      "outputs": []
    },
    {
      "cell_type": "markdown",
      "source": [
        "**Delivery Method**\n",
        "\n",
        "The datasets consist of different delivery method that are offered by intitution base on different courses. the task is to train the Logistic regression to be able to classify this courses by delivery methods. In other words we are predicting which method does student prefer."
      ],
      "metadata": {
        "id": "RpaSC1G4gS3r"
      }
    },
    {
      "cell_type": "markdown",
      "source": [
        "  **Reading the dataset and analysis**\n",
        "\n",
        "  We are now determining the number of methods. In other words, how many different delivery methods are in the dataset? Is the dataset balanced? Balanced means that the distribution of the targets is more or less uniformly distributed. For this dataset balanced means that we have approximately the same number methods for each of the course name. You can use the Seaborn countplot for this. https://seaborn.pydata.org/generated/seaborn.countplot.html. The problem with imbalanced datasets is that the model you train can get a preference for the majority class.\n",
        "\n",
        "  "
      ],
      "metadata": {
        "id": "FU1j7KW86dEL"
      }
    },
    {
      "cell_type": "code",
      "source": [
        "# Reading the dataset\n",
        "df = pd.read_excel('//content/Survey Data .xlsx')\n",
        "df.head()"
      ],
      "metadata": {
        "id": "Hdr9-3mr6fxZ",
        "colab": {
          "base_uri": "https://localhost:8080/",
          "height": 206
        },
        "outputId": "30aea500-1f90-4ac0-e5c2-5bc883bda928"
      },
      "execution_count": null,
      "outputs": [
        {
          "output_type": "execute_result",
          "data": {
            "text/plain": [
              "                                   Course Name Delivery Method  Enrolment  \\\n",
              "0  AB InBev Corporate Affairs Excise Programme          campus        270   \n",
              "1  AB InBev Corporate Affairs Excise Programme          campus         15   \n",
              "2  AB InBev Corporate Affairs Excise Programme          campus         45   \n",
              "3  AB InBev Corporate Affairs Excise Programme          campus         15   \n",
              "4  AB InBev Corporate Affairs Excise Programme          campus         15   \n",
              "\n",
              "   Respondents Response Rate Student Satisfaction Score  \n",
              "0          108         40.0%                      0.00%  \n",
              "1            6         40.0%                      0.00%  \n",
              "2           18         40.0%                      0.00%  \n",
              "3            6         40.0%                     83.33%  \n",
              "4            6         40.0%                     83.33%  "
            ],
            "text/html": [
              "\n",
              "  <div id=\"df-6b944719-cb59-485f-bcb0-9986279419c7\" class=\"colab-df-container\">\n",
              "    <div>\n",
              "<style scoped>\n",
              "    .dataframe tbody tr th:only-of-type {\n",
              "        vertical-align: middle;\n",
              "    }\n",
              "\n",
              "    .dataframe tbody tr th {\n",
              "        vertical-align: top;\n",
              "    }\n",
              "\n",
              "    .dataframe thead th {\n",
              "        text-align: right;\n",
              "    }\n",
              "</style>\n",
              "<table border=\"1\" class=\"dataframe\">\n",
              "  <thead>\n",
              "    <tr style=\"text-align: right;\">\n",
              "      <th></th>\n",
              "      <th>Course Name</th>\n",
              "      <th>Delivery Method</th>\n",
              "      <th>Enrolment</th>\n",
              "      <th>Respondents</th>\n",
              "      <th>Response Rate</th>\n",
              "      <th>Student Satisfaction Score</th>\n",
              "    </tr>\n",
              "  </thead>\n",
              "  <tbody>\n",
              "    <tr>\n",
              "      <th>0</th>\n",
              "      <td>AB InBev Corporate Affairs Excise Programme</td>\n",
              "      <td>campus</td>\n",
              "      <td>270</td>\n",
              "      <td>108</td>\n",
              "      <td>40.0%</td>\n",
              "      <td>0.00%</td>\n",
              "    </tr>\n",
              "    <tr>\n",
              "      <th>1</th>\n",
              "      <td>AB InBev Corporate Affairs Excise Programme</td>\n",
              "      <td>campus</td>\n",
              "      <td>15</td>\n",
              "      <td>6</td>\n",
              "      <td>40.0%</td>\n",
              "      <td>0.00%</td>\n",
              "    </tr>\n",
              "    <tr>\n",
              "      <th>2</th>\n",
              "      <td>AB InBev Corporate Affairs Excise Programme</td>\n",
              "      <td>campus</td>\n",
              "      <td>45</td>\n",
              "      <td>18</td>\n",
              "      <td>40.0%</td>\n",
              "      <td>0.00%</td>\n",
              "    </tr>\n",
              "    <tr>\n",
              "      <th>3</th>\n",
              "      <td>AB InBev Corporate Affairs Excise Programme</td>\n",
              "      <td>campus</td>\n",
              "      <td>15</td>\n",
              "      <td>6</td>\n",
              "      <td>40.0%</td>\n",
              "      <td>83.33%</td>\n",
              "    </tr>\n",
              "    <tr>\n",
              "      <th>4</th>\n",
              "      <td>AB InBev Corporate Affairs Excise Programme</td>\n",
              "      <td>campus</td>\n",
              "      <td>15</td>\n",
              "      <td>6</td>\n",
              "      <td>40.0%</td>\n",
              "      <td>83.33%</td>\n",
              "    </tr>\n",
              "  </tbody>\n",
              "</table>\n",
              "</div>\n",
              "    <div class=\"colab-df-buttons\">\n",
              "\n",
              "  <div class=\"colab-df-container\">\n",
              "    <button class=\"colab-df-convert\" onclick=\"convertToInteractive('df-6b944719-cb59-485f-bcb0-9986279419c7')\"\n",
              "            title=\"Convert this dataframe to an interactive table.\"\n",
              "            style=\"display:none;\">\n",
              "\n",
              "  <svg xmlns=\"http://www.w3.org/2000/svg\" height=\"24px\" viewBox=\"0 -960 960 960\">\n",
              "    <path d=\"M120-120v-720h720v720H120Zm60-500h600v-160H180v160Zm220 220h160v-160H400v160Zm0 220h160v-160H400v160ZM180-400h160v-160H180v160Zm440 0h160v-160H620v160ZM180-180h160v-160H180v160Zm440 0h160v-160H620v160Z\"/>\n",
              "  </svg>\n",
              "    </button>\n",
              "\n",
              "  <style>\n",
              "    .colab-df-container {\n",
              "      display:flex;\n",
              "      gap: 12px;\n",
              "    }\n",
              "\n",
              "    .colab-df-convert {\n",
              "      background-color: #E8F0FE;\n",
              "      border: none;\n",
              "      border-radius: 50%;\n",
              "      cursor: pointer;\n",
              "      display: none;\n",
              "      fill: #1967D2;\n",
              "      height: 32px;\n",
              "      padding: 0 0 0 0;\n",
              "      width: 32px;\n",
              "    }\n",
              "\n",
              "    .colab-df-convert:hover {\n",
              "      background-color: #E2EBFA;\n",
              "      box-shadow: 0px 1px 2px rgba(60, 64, 67, 0.3), 0px 1px 3px 1px rgba(60, 64, 67, 0.15);\n",
              "      fill: #174EA6;\n",
              "    }\n",
              "\n",
              "    .colab-df-buttons div {\n",
              "      margin-bottom: 4px;\n",
              "    }\n",
              "\n",
              "    [theme=dark] .colab-df-convert {\n",
              "      background-color: #3B4455;\n",
              "      fill: #D2E3FC;\n",
              "    }\n",
              "\n",
              "    [theme=dark] .colab-df-convert:hover {\n",
              "      background-color: #434B5C;\n",
              "      box-shadow: 0px 1px 3px 1px rgba(0, 0, 0, 0.15);\n",
              "      filter: drop-shadow(0px 1px 2px rgba(0, 0, 0, 0.3));\n",
              "      fill: #FFFFFF;\n",
              "    }\n",
              "  </style>\n",
              "\n",
              "    <script>\n",
              "      const buttonEl =\n",
              "        document.querySelector('#df-6b944719-cb59-485f-bcb0-9986279419c7 button.colab-df-convert');\n",
              "      buttonEl.style.display =\n",
              "        google.colab.kernel.accessAllowed ? 'block' : 'none';\n",
              "\n",
              "      async function convertToInteractive(key) {\n",
              "        const element = document.querySelector('#df-6b944719-cb59-485f-bcb0-9986279419c7');\n",
              "        const dataTable =\n",
              "          await google.colab.kernel.invokeFunction('convertToInteractive',\n",
              "                                                    [key], {});\n",
              "        if (!dataTable) return;\n",
              "\n",
              "        const docLinkHtml = 'Like what you see? Visit the ' +\n",
              "          '<a target=\"_blank\" href=https://colab.research.google.com/notebooks/data_table.ipynb>data table notebook</a>'\n",
              "          + ' to learn more about interactive tables.';\n",
              "        element.innerHTML = '';\n",
              "        dataTable['output_type'] = 'display_data';\n",
              "        await google.colab.output.renderOutput(dataTable, element);\n",
              "        const docLink = document.createElement('div');\n",
              "        docLink.innerHTML = docLinkHtml;\n",
              "        element.appendChild(docLink);\n",
              "      }\n",
              "    </script>\n",
              "  </div>\n",
              "\n",
              "\n",
              "<div id=\"df-addb2c09-255b-42a6-b0c9-4db81197a563\">\n",
              "  <button class=\"colab-df-quickchart\" onclick=\"quickchart('df-addb2c09-255b-42a6-b0c9-4db81197a563')\"\n",
              "            title=\"Suggest charts\"\n",
              "            style=\"display:none;\">\n",
              "\n",
              "<svg xmlns=\"http://www.w3.org/2000/svg\" height=\"24px\"viewBox=\"0 0 24 24\"\n",
              "     width=\"24px\">\n",
              "    <g>\n",
              "        <path d=\"M19 3H5c-1.1 0-2 .9-2 2v14c0 1.1.9 2 2 2h14c1.1 0 2-.9 2-2V5c0-1.1-.9-2-2-2zM9 17H7v-7h2v7zm4 0h-2V7h2v10zm4 0h-2v-4h2v4z\"/>\n",
              "    </g>\n",
              "</svg>\n",
              "  </button>\n",
              "\n",
              "<style>\n",
              "  .colab-df-quickchart {\n",
              "      --bg-color: #E8F0FE;\n",
              "      --fill-color: #1967D2;\n",
              "      --hover-bg-color: #E2EBFA;\n",
              "      --hover-fill-color: #174EA6;\n",
              "      --disabled-fill-color: #AAA;\n",
              "      --disabled-bg-color: #DDD;\n",
              "  }\n",
              "\n",
              "  [theme=dark] .colab-df-quickchart {\n",
              "      --bg-color: #3B4455;\n",
              "      --fill-color: #D2E3FC;\n",
              "      --hover-bg-color: #434B5C;\n",
              "      --hover-fill-color: #FFFFFF;\n",
              "      --disabled-bg-color: #3B4455;\n",
              "      --disabled-fill-color: #666;\n",
              "  }\n",
              "\n",
              "  .colab-df-quickchart {\n",
              "    background-color: var(--bg-color);\n",
              "    border: none;\n",
              "    border-radius: 50%;\n",
              "    cursor: pointer;\n",
              "    display: none;\n",
              "    fill: var(--fill-color);\n",
              "    height: 32px;\n",
              "    padding: 0;\n",
              "    width: 32px;\n",
              "  }\n",
              "\n",
              "  .colab-df-quickchart:hover {\n",
              "    background-color: var(--hover-bg-color);\n",
              "    box-shadow: 0 1px 2px rgba(60, 64, 67, 0.3), 0 1px 3px 1px rgba(60, 64, 67, 0.15);\n",
              "    fill: var(--button-hover-fill-color);\n",
              "  }\n",
              "\n",
              "  .colab-df-quickchart-complete:disabled,\n",
              "  .colab-df-quickchart-complete:disabled:hover {\n",
              "    background-color: var(--disabled-bg-color);\n",
              "    fill: var(--disabled-fill-color);\n",
              "    box-shadow: none;\n",
              "  }\n",
              "\n",
              "  .colab-df-spinner {\n",
              "    border: 2px solid var(--fill-color);\n",
              "    border-color: transparent;\n",
              "    border-bottom-color: var(--fill-color);\n",
              "    animation:\n",
              "      spin 1s steps(1) infinite;\n",
              "  }\n",
              "\n",
              "  @keyframes spin {\n",
              "    0% {\n",
              "      border-color: transparent;\n",
              "      border-bottom-color: var(--fill-color);\n",
              "      border-left-color: var(--fill-color);\n",
              "    }\n",
              "    20% {\n",
              "      border-color: transparent;\n",
              "      border-left-color: var(--fill-color);\n",
              "      border-top-color: var(--fill-color);\n",
              "    }\n",
              "    30% {\n",
              "      border-color: transparent;\n",
              "      border-left-color: var(--fill-color);\n",
              "      border-top-color: var(--fill-color);\n",
              "      border-right-color: var(--fill-color);\n",
              "    }\n",
              "    40% {\n",
              "      border-color: transparent;\n",
              "      border-right-color: var(--fill-color);\n",
              "      border-top-color: var(--fill-color);\n",
              "    }\n",
              "    60% {\n",
              "      border-color: transparent;\n",
              "      border-right-color: var(--fill-color);\n",
              "    }\n",
              "    80% {\n",
              "      border-color: transparent;\n",
              "      border-right-color: var(--fill-color);\n",
              "      border-bottom-color: var(--fill-color);\n",
              "    }\n",
              "    90% {\n",
              "      border-color: transparent;\n",
              "      border-bottom-color: var(--fill-color);\n",
              "    }\n",
              "  }\n",
              "</style>\n",
              "\n",
              "  <script>\n",
              "    async function quickchart(key) {\n",
              "      const quickchartButtonEl =\n",
              "        document.querySelector('#' + key + ' button');\n",
              "      quickchartButtonEl.disabled = true;  // To prevent multiple clicks.\n",
              "      quickchartButtonEl.classList.add('colab-df-spinner');\n",
              "      try {\n",
              "        const charts = await google.colab.kernel.invokeFunction(\n",
              "            'suggestCharts', [key], {});\n",
              "      } catch (error) {\n",
              "        console.error('Error during call to suggestCharts:', error);\n",
              "      }\n",
              "      quickchartButtonEl.classList.remove('colab-df-spinner');\n",
              "      quickchartButtonEl.classList.add('colab-df-quickchart-complete');\n",
              "    }\n",
              "    (() => {\n",
              "      let quickchartButtonEl =\n",
              "        document.querySelector('#df-addb2c09-255b-42a6-b0c9-4db81197a563 button');\n",
              "      quickchartButtonEl.style.display =\n",
              "        google.colab.kernel.accessAllowed ? 'block' : 'none';\n",
              "    })();\n",
              "  </script>\n",
              "</div>\n",
              "\n",
              "    </div>\n",
              "  </div>\n"
            ],
            "application/vnd.google.colaboratory.intrinsic+json": {
              "type": "dataframe",
              "variable_name": "df",
              "summary": "{\n  \"name\": \"df\",\n  \"rows\": 28454,\n  \"fields\": [\n    {\n      \"column\": \"Course Name\",\n      \"properties\": {\n        \"dtype\": \"category\",\n        \"num_unique_values\": 160,\n        \"samples\": [\n          \"Persuasion - The art and science of influence\",\n          \"PMI-SA Women Leadership Development Programme \",\n          \"The Expert Negotiator \"\n        ],\n        \"semantic_type\": \"\",\n        \"description\": \"\"\n      }\n    },\n    {\n      \"column\": \"Delivery Method\",\n      \"properties\": {\n        \"dtype\": \"category\",\n        \"num_unique_values\": 3,\n        \"samples\": [\n          \"campus\",\n          \"online\",\n          \"blended\"\n        ],\n        \"semantic_type\": \"\",\n        \"description\": \"\"\n      }\n    },\n    {\n      \"column\": \"Enrolment\",\n      \"properties\": {\n        \"dtype\": \"number\",\n        \"std\": 510,\n        \"min\": 0,\n        \"max\": 28080,\n        \"num_unique_values\": 723,\n        \"samples\": [\n          434,\n          949,\n          183\n        ],\n        \"semantic_type\": \"\",\n        \"description\": \"\"\n      }\n    },\n    {\n      \"column\": \"Respondents\",\n      \"properties\": {\n        \"dtype\": \"number\",\n        \"std\": 277,\n        \"min\": 1,\n        \"max\": 15680,\n        \"num_unique_values\": 461,\n        \"samples\": [\n          273,\n          10,\n          140\n        ],\n        \"semantic_type\": \"\",\n        \"description\": \"\"\n      }\n    },\n    {\n      \"column\": \"Response Rate\",\n      \"properties\": {\n        \"dtype\": \"category\",\n        \"num_unique_values\": 271,\n        \"samples\": [\n          \"12.5%\",\n          \"2.9%\",\n          \"13.0%\"\n        ],\n        \"semantic_type\": \"\",\n        \"description\": \"\"\n      }\n    },\n    {\n      \"column\": \"Student Satisfaction Score\",\n      \"properties\": {\n        \"dtype\": \"category\",\n        \"num_unique_values\": 7,\n        \"samples\": [\n          \"0.00%\",\n          \"83.33%\",\n          \"66.67%\"\n        ],\n        \"semantic_type\": \"\",\n        \"description\": \"\"\n      }\n    }\n  ]\n}"
            }
          },
          "metadata": {},
          "execution_count": 2
        }
      ]
    },
    {
      "cell_type": "code",
      "source": [
        "# Create the countplot\n",
        "\n",
        "# Define colors for each category\n",
        "colors = ['#FF6347', '#00008B', '#32CD32']\n",
        "\n",
        "plt.figure(figsize=(10, 6))\n",
        "sns.countplot(x='Delivery Method', data=df, palette=colors)\n",
        "plt.title('Count of Delivery Methods')\n",
        "plt.xlabel('Delivery Method')\n",
        "plt.ylabel('Count')\n",
        "plt.show()"
      ],
      "metadata": {
        "id": "jr_TEju0A8Yd",
        "colab": {
          "base_uri": "https://localhost:8080/",
          "height": 564
        },
        "outputId": "16782a42-649d-4606-afad-32d378d54d53"
      },
      "execution_count": null,
      "outputs": [
        {
          "output_type": "display_data",
          "data": {
            "text/plain": [
              "<Figure size 1000x600 with 1 Axes>"
            ],
            "image/png": "[encoded data removed]"
          },
          "metadata": {}
        }
      ]
    },
    {
      "cell_type": "code",
      "source": [
        "# Checking for (im)balancedness\n",
        "\n",
        "# Define a palette with different colors\n",
        "palette = ['#FF6347', '#00008B', '#32CD32']\n",
        "\n",
        "plt.figure(figsize=(10, 6))\n",
        "sns.countplot(x='Delivery Method', data=df, palette=palette)\n",
        "plt.title('(im)balancedness of Delivery Methods')\n",
        "plt.xlabel('Delivery Method')\n",
        "plt.ylabel('Count')\n",
        "plt.show()"
      ],
      "metadata": {
        "id": "rae-GjFDBmbm",
        "colab": {
          "base_uri": "https://localhost:8080/",
          "height": 564
        },
        "outputId": "1f0a8ed9-882b-4b2a-9de5-22f118da8eb2"
      },
      "execution_count": null,
      "outputs": [
        {
          "output_type": "display_data",
          "data": {
            "text/plain": [
              "<Figure size 1000x600 with 1 Axes>"
            ],
            "image/png": "[encoded data removed]"
          },
          "metadata": {}
        }
      ]
    },
    {
      "cell_type": "code",
      "source": [
        "# Check for missing values\n",
        "df.isnull().sum()\n"
      ],
      "metadata": {
        "id": "P6iOQYYi9V34",
        "colab": {
          "base_uri": "https://localhost:8080/"
        },
        "outputId": "2502058c-450c-424c-f2be-ab580d8d4248"
      },
      "execution_count": null,
      "outputs": [
        {
          "output_type": "execute_result",
          "data": {
            "text/plain": [
              "Course Name                    0\n",
              "Delivery Method               84\n",
              "Enrolment                      0\n",
              "Respondents                    0\n",
              "Response Rate                 11\n",
              "Student Satisfaction Score     0\n",
              "dtype: int64"
            ]
          },
          "metadata": {},
          "execution_count": 5
        }
      ]
    },
    {
      "cell_type": "code",
      "source": [
        "# No missing value, the heatmap is blank\n",
        "plt.rcParams['figure.figsize'] = (10, 7)\n",
        "sns.heatmap(df.isnull(), cmap ='viridis')"
      ],
      "metadata": {
        "colab": {
          "base_uri": "https://localhost:8080/",
          "height": 793
        },
        "id": "lNvMAM9hU2W1",
        "outputId": "82cb0167-fa97-4ff1-f25f-ea6e61099a25"
      },
      "execution_count": null,
      "outputs": [
        {
          "output_type": "execute_result",
          "data": {
            "text/plain": [
              "<Axes: >"
            ]
          },
          "metadata": {},
          "execution_count": 6
        },
        {
          "output_type": "display_data",
          "data": {
            "text/plain": [
              "<Figure size 1000x700 with 2 Axes>"
            ],
            "image/png": "[encoded data removed]"
          },
          "metadata": {}
        }
      ]
    },
    {
      "cell_type": "code",
      "source": [
        "# Remove rows with any null values\n",
        "df_data = df.dropna()\n",
        "df_data.isnull().sum()"
      ],
      "metadata": {
        "id": "GYao4Yi4-uOs",
        "colab": {
          "base_uri": "https://localhost:8080/"
        },
        "outputId": "f18cd663-e650-4050-dbc0-039ef83124a5"
      },
      "execution_count": null,
      "outputs": [
        {
          "output_type": "execute_result",
          "data": {
            "text/plain": [
              "Course Name                   0\n",
              "Delivery Method               0\n",
              "Enrolment                     0\n",
              "Respondents                   0\n",
              "Response Rate                 0\n",
              "Student Satisfaction Score    0\n",
              "dtype: int64"
            ]
          },
          "metadata": {},
          "execution_count": 7
        }
      ]
    },
    {
      "cell_type": "code",
      "source": [
        "# No missing value, the heatmap is blank\n",
        "plt.rcParams['figure.figsize'] = (10, 7)\n",
        "sns.heatmap(df_data.isnull(), cmap ='viridis')"
      ],
      "metadata": {
        "id": "Om4GPCB1_DD4",
        "colab": {
          "base_uri": "https://localhost:8080/",
          "height": 793
        },
        "outputId": "6747e25f-a912-498c-8298-036515af8cde"
      },
      "execution_count": null,
      "outputs": [
        {
          "output_type": "execute_result",
          "data": {
            "text/plain": [
              "<Axes: >"
            ]
          },
          "metadata": {},
          "execution_count": 8
        },
        {
          "output_type": "display_data",
          "data": {
            "text/plain": [
              "<Figure size 1000x700 with 2 Axes>"
            ],
            "image/png": "[encoded data removed]"
          },
          "metadata": {}
        }
      ]
    },
    {
      "cell_type": "code",
      "source": [
        "#Check for outliers\n",
        "f, ax = plt.subplots(figsize=(16, 9))\n",
        "sns.histplot(x='Delivery Method',data=df_data, color='#00008B')"
      ],
      "metadata": {
        "id": "VdtHtHVV_khZ",
        "colab": {
          "base_uri": "https://localhost:8080/",
          "height": 665
        },
        "outputId": "9f5871d6-8405-4099-a74a-5a0c74682847"
      },
      "execution_count": null,
      "outputs": [
        {
          "output_type": "execute_result",
          "data": {
            "text/plain": [
              "<Axes: xlabel='Delivery Method', ylabel='Count'>"
            ]
          },
          "metadata": {},
          "execution_count": 9
        },
        {
          "output_type": "display_data",
          "data": {
            "text/plain": [
              "<Figure size 1600x900 with 1 Axes>"
            ],
            "image/png": "[encoded data removed]"
          },
          "metadata": {}
        }
      ]
    },
    {
      "cell_type": "code",
      "source": [
        "#Check for outliers\n",
        "f, ax = plt.subplots(figsize=(16, 9))\n",
        "sns.boxplot(x='Delivery Method',data=df_data, color='#00008B')"
      ],
      "metadata": {
        "id": "fETChirHfkgs",
        "colab": {
          "base_uri": "https://localhost:8080/",
          "height": 700
        },
        "outputId": "fb19d451-169b-4ac0-a3f0-cd7d5476ec5a"
      },
      "execution_count": null,
      "outputs": [
        {
          "output_type": "execute_result",
          "data": {
            "text/plain": [
              "<Axes: xlabel='Delivery Method'>"
            ]
          },
          "metadata": {},
          "execution_count": 10
        },
        {
          "output_type": "display_data",
          "data": {
            "text/plain": [
              "<Figure size 1600x900 with 1 Axes>"
            ],
            "image/png": "[encoded data removed]"
          },
          "metadata": {}
        }
      ]
    },
    {
      "cell_type": "markdown",
      "source": [
        "Check for missing, extreme or unrealistic values. Remove them when present in the dataset. You can use the dataset.describe() function to determine the key statistical properties of the dataset. https://pandas.pydata.org/pandas-docs/stable/generated/pandas.DataFrame.describe.html)."
      ],
      "metadata": {
        "id": "oWqzxYENjJAm"
      }
    },
    {
      "cell_type": "code",
      "source": [
        "# Statistical analysis\n",
        "df_data.describe()"
      ],
      "metadata": {
        "id": "nJHuq1v8ED3f",
        "colab": {
          "base_uri": "https://localhost:8080/",
          "height": 300
        },
        "outputId": "74ec3334-b3c6-4dfa-d044-9202aa50fd1f"
      },
      "execution_count": null,
      "outputs": [
        {
          "output_type": "execute_result",
          "data": {
            "text/plain": [
              "          Enrolment   Respondents\n",
              "count  28359.000000  28359.000000\n",
              "mean     122.905744     48.786311\n",
              "std      511.648135    278.313771\n",
              "min        1.000000      1.000000\n",
              "25%       26.000000      7.000000\n",
              "50%       45.000000     14.000000\n",
              "75%       83.000000     30.000000\n",
              "max    28080.000000  15680.000000"
            ],
            "text/html": [
              "\n",
              "  <div id=\"df-bc8987a8-eae9-417a-b289-e7d0a05d2256\" class=\"colab-df-container\">\n",
              "    <div>\n",
              "<style scoped>\n",
              "    .dataframe tbody tr th:only-of-type {\n",
              "        vertical-align: middle;\n",
              "    }\n",
              "\n",
              "    .dataframe tbody tr th {\n",
              "        vertical-align: top;\n",
              "    }\n",
              "\n",
              "    .dataframe thead th {\n",
              "        text-align: right;\n",
              "    }\n",
              "</style>\n",
              "<table border=\"1\" class=\"dataframe\">\n",
              "  <thead>\n",
              "    <tr style=\"text-align: right;\">\n",
              "      <th></th>\n",
              "      <th>Enrolment</th>\n",
              "      <th>Respondents</th>\n",
              "    </tr>\n",
              "  </thead>\n",
              "  <tbody>\n",
              "    <tr>\n",
              "      <th>count</th>\n",
              "      <td>28359.000000</td>\n",
              "      <td>28359.000000</td>\n",
              "    </tr>\n",
              "    <tr>\n",
              "      <th>mean</th>\n",
              "      <td>122.905744</td>\n",
              "      <td>48.786311</td>\n",
              "    </tr>\n",
              "    <tr>\n",
              "      <th>std</th>\n",
              "      <td>511.648135</td>\n",
              "      <td>278.313771</td>\n",
              "    </tr>\n",
              "    <tr>\n",
              "      <th>min</th>\n",
              "      <td>1.000000</td>\n",
              "      <td>1.000000</td>\n",
              "    </tr>\n",
              "    <tr>\n",
              "      <th>25%</th>\n",
              "      <td>26.000000</td>\n",
              "      <td>7.000000</td>\n",
              "    </tr>\n",
              "    <tr>\n",
              "      <th>50%</th>\n",
              "      <td>45.000000</td>\n",
              "      <td>14.000000</td>\n",
              "    </tr>\n",
              "    <tr>\n",
              "      <th>75%</th>\n",
              "      <td>83.000000</td>\n",
              "      <td>30.000000</td>\n",
              "    </tr>\n",
              "    <tr>\n",
              "      <th>max</th>\n",
              "      <td>28080.000000</td>\n",
              "      <td>15680.000000</td>\n",
              "    </tr>\n",
              "  </tbody>\n",
              "</table>\n",
              "</div>\n",
              "    <div class=\"colab-df-buttons\">\n",
              "\n",
              "  <div class=\"colab-df-container\">\n",
              "    <button class=\"colab-df-convert\" onclick=\"convertToInteractive('df-bc8987a8-eae9-417a-b289-e7d0a05d2256')\"\n",
              "            title=\"Convert this dataframe to an interactive table.\"\n",
              "            style=\"display:none;\">\n",
              "\n",
              "  <svg xmlns=\"http://www.w3.org/2000/svg\" height=\"24px\" viewBox=\"0 -960 960 960\">\n",
              "    <path d=\"M120-120v-720h720v720H120Zm60-500h600v-160H180v160Zm220 220h160v-160H400v160Zm0 220h160v-160H400v160ZM180-400h160v-160H180v160Zm440 0h160v-160H620v160ZM180-180h160v-160H180v160Zm440 0h160v-160H620v160Z\"/>\n",
              "  </svg>\n",
              "    </button>\n",
              "\n",
              "  <style>\n",
              "    .colab-df-container {\n",
              "      display:flex;\n",
              "      gap: 12px;\n",
              "    }\n",
              "\n",
              "    .colab-df-convert {\n",
              "      background-color: #E8F0FE;\n",
              "      border: none;\n",
              "      border-radius: 50%;\n",
              "      cursor: pointer;\n",
              "      display: none;\n",
              "      fill: #1967D2;\n",
              "      height: 32px;\n",
              "      padding: 0 0 0 0;\n",
              "      width: 32px;\n",
              "    }\n",
              "\n",
              "    .colab-df-convert:hover {\n",
              "      background-color: #E2EBFA;\n",
              "      box-shadow: 0px 1px 2px rgba(60, 64, 67, 0.3), 0px 1px 3px 1px rgba(60, 64, 67, 0.15);\n",
              "      fill: #174EA6;\n",
              "    }\n",
              "\n",
              "    .colab-df-buttons div {\n",
              "      margin-bottom: 4px;\n",
              "    }\n",
              "\n",
              "    [theme=dark] .colab-df-convert {\n",
              "      background-color: #3B4455;\n",
              "      fill: #D2E3FC;\n",
              "    }\n",
              "\n",
              "    [theme=dark] .colab-df-convert:hover {\n",
              "      background-color: #434B5C;\n",
              "      box-shadow: 0px 1px 3px 1px rgba(0, 0, 0, 0.15);\n",
              "      filter: drop-shadow(0px 1px 2px rgba(0, 0, 0, 0.3));\n",
              "      fill: #FFFFFF;\n",
              "    }\n",
              "  </style>\n",
              "\n",
              "    <script>\n",
              "      const buttonEl =\n",
              "        document.querySelector('#df-bc8987a8-eae9-417a-b289-e7d0a05d2256 button.colab-df-convert');\n",
              "      buttonEl.style.display =\n",
              "        google.colab.kernel.accessAllowed ? 'block' : 'none';\n",
              "\n",
              "      async function convertToInteractive(key) {\n",
              "        const element = document.querySelector('#df-bc8987a8-eae9-417a-b289-e7d0a05d2256');\n",
              "        const dataTable =\n",
              "          await google.colab.kernel.invokeFunction('convertToInteractive',\n",
              "                                                    [key], {});\n",
              "        if (!dataTable) return;\n",
              "\n",
              "        const docLinkHtml = 'Like what you see? Visit the ' +\n",
              "          '<a target=\"_blank\" href=https://colab.research.google.com/notebooks/data_table.ipynb>data table notebook</a>'\n",
              "          + ' to learn more about interactive tables.';\n",
              "        element.innerHTML = '';\n",
              "        dataTable['output_type'] = 'display_data';\n",
              "        await google.colab.output.renderOutput(dataTable, element);\n",
              "        const docLink = document.createElement('div');\n",
              "        docLink.innerHTML = docLinkHtml;\n",
              "        element.appendChild(docLink);\n",
              "      }\n",
              "    </script>\n",
              "  </div>\n",
              "\n",
              "\n",
              "<div id=\"df-a500b46b-0398-4baf-b4db-285260674147\">\n",
              "  <button class=\"colab-df-quickchart\" onclick=\"quickchart('df-a500b46b-0398-4baf-b4db-285260674147')\"\n",
              "            title=\"Suggest charts\"\n",
              "            style=\"display:none;\">\n",
              "\n",
              "<svg xmlns=\"http://www.w3.org/2000/svg\" height=\"24px\"viewBox=\"0 0 24 24\"\n",
              "     width=\"24px\">\n",
              "    <g>\n",
              "        <path d=\"M19 3H5c-1.1 0-2 .9-2 2v14c0 1.1.9 2 2 2h14c1.1 0 2-.9 2-2V5c0-1.1-.9-2-2-2zM9 17H7v-7h2v7zm4 0h-2V7h2v10zm4 0h-2v-4h2v4z\"/>\n",
              "    </g>\n",
              "</svg>\n",
              "  </button>\n",
              "\n",
              "<style>\n",
              "  .colab-df-quickchart {\n",
              "      --bg-color: #E8F0FE;\n",
              "      --fill-color: #1967D2;\n",
              "      --hover-bg-color: #E2EBFA;\n",
              "      --hover-fill-color: #174EA6;\n",
              "      --disabled-fill-color: #AAA;\n",
              "      --disabled-bg-color: #DDD;\n",
              "  }\n",
              "\n",
              "  [theme=dark] .colab-df-quickchart {\n",
              "      --bg-color: #3B4455;\n",
              "      --fill-color: #D2E3FC;\n",
              "      --hover-bg-color: #434B5C;\n",
              "      --hover-fill-color: #FFFFFF;\n",
              "      --disabled-bg-color: #3B4455;\n",
              "      --disabled-fill-color: #666;\n",
              "  }\n",
              "\n",
              "  .colab-df-quickchart {\n",
              "    background-color: var(--bg-color);\n",
              "    border: none;\n",
              "    border-radius: 50%;\n",
              "    cursor: pointer;\n",
              "    display: none;\n",
              "    fill: var(--fill-color);\n",
              "    height: 32px;\n",
              "    padding: 0;\n",
              "    width: 32px;\n",
              "  }\n",
              "\n",
              "  .colab-df-quickchart:hover {\n",
              "    background-color: var(--hover-bg-color);\n",
              "    box-shadow: 0 1px 2px rgba(60, 64, 67, 0.3), 0 1px 3px 1px rgba(60, 64, 67, 0.15);\n",
              "    fill: var(--button-hover-fill-color);\n",
              "  }\n",
              "\n",
              "  .colab-df-quickchart-complete:disabled,\n",
              "  .colab-df-quickchart-complete:disabled:hover {\n",
              "    background-color: var(--disabled-bg-color);\n",
              "    fill: var(--disabled-fill-color);\n",
              "    box-shadow: none;\n",
              "  }\n",
              "\n",
              "  .colab-df-spinner {\n",
              "    border: 2px solid var(--fill-color);\n",
              "    border-color: transparent;\n",
              "    border-bottom-color: var(--fill-color);\n",
              "    animation:\n",
              "      spin 1s steps(1) infinite;\n",
              "  }\n",
              "\n",
              "  @keyframes spin {\n",
              "    0% {\n",
              "      border-color: transparent;\n",
              "      border-bottom-color: var(--fill-color);\n",
              "      border-left-color: var(--fill-color);\n",
              "    }\n",
              "    20% {\n",
              "      border-color: transparent;\n",
              "      border-left-color: var(--fill-color);\n",
              "      border-top-color: var(--fill-color);\n",
              "    }\n",
              "    30% {\n",
              "      border-color: transparent;\n",
              "      border-left-color: var(--fill-color);\n",
              "      border-top-color: var(--fill-color);\n",
              "      border-right-color: var(--fill-color);\n",
              "    }\n",
              "    40% {\n",
              "      border-color: transparent;\n",
              "      border-right-color: var(--fill-color);\n",
              "      border-top-color: var(--fill-color);\n",
              "    }\n",
              "    60% {\n",
              "      border-color: transparent;\n",
              "      border-right-color: var(--fill-color);\n",
              "    }\n",
              "    80% {\n",
              "      border-color: transparent;\n",
              "      border-right-color: var(--fill-color);\n",
              "      border-bottom-color: var(--fill-color);\n",
              "    }\n",
              "    90% {\n",
              "      border-color: transparent;\n",
              "      border-bottom-color: var(--fill-color);\n",
              "    }\n",
              "  }\n",
              "</style>\n",
              "\n",
              "  <script>\n",
              "    async function quickchart(key) {\n",
              "      const quickchartButtonEl =\n",
              "        document.querySelector('#' + key + ' button');\n",
              "      quickchartButtonEl.disabled = true;  // To prevent multiple clicks.\n",
              "      quickchartButtonEl.classList.add('colab-df-spinner');\n",
              "      try {\n",
              "        const charts = await google.colab.kernel.invokeFunction(\n",
              "            'suggestCharts', [key], {});\n",
              "      } catch (error) {\n",
              "        console.error('Error during call to suggestCharts:', error);\n",
              "      }\n",
              "      quickchartButtonEl.classList.remove('colab-df-spinner');\n",
              "      quickchartButtonEl.classList.add('colab-df-quickchart-complete');\n",
              "    }\n",
              "    (() => {\n",
              "      let quickchartButtonEl =\n",
              "        document.querySelector('#df-a500b46b-0398-4baf-b4db-285260674147 button');\n",
              "      quickchartButtonEl.style.display =\n",
              "        google.colab.kernel.accessAllowed ? 'block' : 'none';\n",
              "    })();\n",
              "  </script>\n",
              "</div>\n",
              "\n",
              "    </div>\n",
              "  </div>\n"
            ],
            "application/vnd.google.colaboratory.intrinsic+json": {
              "type": "dataframe",
              "summary": "{\n  \"name\": \"df_data\",\n  \"rows\": 8,\n  \"fields\": [\n    {\n      \"column\": \"Enrolment\",\n      \"properties\": {\n        \"dtype\": \"number\",\n        \"std\": 13003.39153149026,\n        \"min\": 1.0,\n        \"max\": 28359.0,\n        \"num_unique_values\": 8,\n        \"samples\": [\n          122.90574420818788,\n          45.0,\n          28359.0\n        ],\n        \"semantic_type\": \"\",\n        \"description\": \"\"\n      }\n    },\n    {\n      \"column\": \"Respondents\",\n      \"properties\": {\n        \"dtype\": \"number\",\n        \"std\": 10714.178281892016,\n        \"min\": 1.0,\n        \"max\": 28359.0,\n        \"num_unique_values\": 8,\n        \"samples\": [\n          48.78631122395007,\n          14.0,\n          28359.0\n        ],\n        \"semantic_type\": \"\",\n        \"description\": \"\"\n      }\n    }\n  ]\n}"
            }
          },
          "metadata": {},
          "execution_count": 11
        }
      ]
    },
    {
      "source": [
        "# Extract numerical part and convert to float\n",
        "df_data['Response Rate'] = df_data['Response Rate'].str.rstrip('%').astype('float') / 100.0"
      ],
      "cell_type": "code",
      "metadata": {
        "id": "SbuJw9HfztZO"
      },
      "execution_count": null,
      "outputs": []
    },
    {
      "source": [
        "# Extract numerical part and convert to float\n",
        "df_data['Student Satisfaction Score'] = df_data['Student Satisfaction Score'].str.rstrip('%').astype('float') / 100.0"
      ],
      "cell_type": "code",
      "metadata": {
        "id": "h4CvPjXtz3yp"
      },
      "execution_count": null,
      "outputs": []
    },
    {
      "cell_type": "code",
      "source": [
        "df_data['Delivery Method'] = df_data['Delivery Method'].map({'online': 1, 'campus': 0, 'blended': 2})"
      ],
      "metadata": {
        "id": "tz7cwTssoSme"
      },
      "execution_count": null,
      "outputs": []
    },
    {
      "cell_type": "code",
      "source": [
        "# Get unique programs\n",
        "unique_programs = df_data['Course Name'].unique()\n",
        "print(f'Unique programs: {unique_programs}')\n",
        "\n",
        "# Count the number of unique programs\n",
        "num_programs = df_data['Course Name'].nunique()\n",
        "print(f'There are {num_programs} unique programs in the dataset.')"
      ],
      "metadata": {
        "id": "YelquYoOSIuS",
        "colab": {
          "base_uri": "https://localhost:8080/"
        },
        "outputId": "66565efd-8975-4bac-a28d-9871fe5d65e4"
      },
      "execution_count": null,
      "outputs": [
        {
          "output_type": "stream",
          "name": "stdout",
          "text": [
            "Unique programs: ['AB InBev Corporate Affairs Excise Programme'\n",
            " 'ABSA PDBA - Career Advancement ' 'Advanced Diploma'\n",
            " 'Advanced Entrepreneurship:Leadership & Practice'\n",
            " 'Advanced Leadership and Management Course to Build Capacity towards Malaria Elimination '\n",
            " 'Advanced Professional Business Coaching Programme'\n",
            " 'AECI SMDP - Advanced Diploma' 'Africa in 2050 Betting on Ourselves'\n",
            " 'AGCO Africa Agribusiness Qualification '\n",
            " 'AIG Senior Leadership Masterclasses' 'Aspen Activate Programme'\n",
            " 'Aspen Ascend Programme '\n",
            " 'Aspen Ascend Team Effectiveness with Jackie Wilken'\n",
            " 'Behaviour Science for Business Impact' 'BMGF Programme'\n",
            " 'Board Leadership Programme ' 'Bridgestone Leading Self'\n",
            " 'Bridgestone NQF 4 Leading ' 'Bridgestone NQF 5 Leading Managers '\n",
            " 'Building Brands' 'Business Communication for Impact'\n",
            " 'Businesss Oppportunities and Innovation' 'CalBank '\n",
            " 'CBZ Holdings  Mergers & Acquisitions Strategies for Successful Post Acquisition Integration'\n",
            " 'CELL C MANAGEMENT DEVELOPMENT PROGRAMME '\n",
            " 'Competitiveness and Economic Development'\n",
            " 'Contextual Leadership Intelligence' 'Corporate Governance'\n",
            " 'Corporate Mergers and Acquisitions ' 'Crucial Conversations'\n",
            " 'Designing your Key Account Management Plan ' 'Diversity and Inclusion'\n",
            " 'Doctoral Programme' 'Dummy Evaluation ' 'Dynamic Innovation'\n",
            " 'Economics of Organisational Strategy'\n",
            " 'Effective Execution and Project Management '\n",
            " 'Effectual Intelligence for Management Consultants'\n",
            " 'Emerging Technologies & The Future of Business'\n",
            " 'Employee happiness & well-being A strategy and a responsibility'\n",
            " 'Entrepreneurial Finance' 'Entrepreneurial Marketing'\n",
            " 'Entrepreneurship through Acquisition' 'Enviroment of Business'\n",
            " 'Evidence Based Management' 'EY Masterclass Workshop Presentation Skiils'\n",
            " 'FBC Holdings Leading Digital Transformation Programme '\n",
            " 'FDH Executive Development Programme '\n",
            " 'Finance for Non Financial Managers '\n",
            " 'Financial and Management Accounting'\n",
            " 'FirstRandBank: Journey of Digital Transformation'\n",
            " 'GE - Middle Management Programme'\n",
            " 'GE - Senior Management Programme Adv Dip'\n",
            " 'General Management Programme ' 'Geopolitics & Grand Strategy'\n",
            " 'GIPF Global Leaders Programme '\n",
            " 'Global Executive Development Programme '\n",
            " 'Hedge Fund and Design Management'\n",
            " 'Heineken Professional Business Coaching Programme'\n",
            " 'IDC Project Finance and Financial Modelling Training '\n",
            " 'IIG General Management Programme '\n",
            " 'Imperial Executive Development Programme '\n",
            " 'In House ABinBev Strategy, Innovation and Design Thinking Programme'\n",
            " 'In House Concor'\n",
            " 'In House Diageo South Africa - Project Management for Non-Project Managers '\n",
            " 'In House EY '\n",
            " 'In House FSCA Strategy Bootcamp with Professor Nick Binedell '\n",
            " 'In House Globeleq International Board Directors Programme '\n",
            " 'In House Idemia - Managing For Results '\n",
            " 'In House Ithala Banking Board Leadership Programme '\n",
            " 'In House J.P. Morgan School of Finance Transformational Leadership'\n",
            " 'In House John Deere  Accelerating Leaders Programme'\n",
            " 'In House MOTUS Women in Leadership Programme' 'In House Multichoice'\n",
            " 'In House Pearson Designing your Key Account Management Plan'\n",
            " 'In House Tile Africa - Key Account Management Development programme '\n",
            " 'In House: Barko Banking Board Leadership Programme '\n",
            " 'Inhouse GEMS - Managing Teams for Exceptional Performance'\n",
            " 'Innovation and design'\n",
            " 'Integrative leadership for public private collaboration towards partnerships '\n",
            " 'Investment Finance' 'John Deere - Accelerating Leaders Programme '\n",
            " 'Leader as coach ' 'Leadership Negotiation and Communication'\n",
            " 'Leading From The Future ' 'Leading Through Storytelling'\n",
            " 'Leading Women ' 'Letshego LDP' 'Letshego Senior Leadership Programme '\n",
            " 'Letshego SLDP ' 'Life Healthcare - Operations Management'\n",
            " 'Life Healthcare Adv.Dip  ' 'Life Healthcare PDBA '\n",
            " 'Managing Managers for Results '\n",
            " 'Mapei Senior Leadership Development Programme '\n",
            " 'Massmart - Retail Operations Leadership Journey'\n",
            " 'Mastering Strategic Foresight' 'Masters Elective' 'MBA ' 'Mphil '\n",
            " 'Nashua Franchisee Leadership Development' 'Negotiation and Deal'\n",
            " 'Oceana Group - Corporate Mergers and Acquisitions Programme'\n",
            " 'Organon Professional Business Coaching Programme' 'PDBA '\n",
            " 'Persuasion - The art and science of influence' 'PGDip ' 'PMD '\n",
            " 'PMI-SA Women Leadership Development Programme '\n",
            " 'Professional business coaching programme'\n",
            " 'Professional Management Consulting'\n",
            " 'Project Management for NonProject Managers '\n",
            " 'Public Investment Corporation Middle Management Development Programme'\n",
            " 'Raubex - Mastering the Business Environemnt' 'Raubex - Personal Mastery'\n",
            " 'Raubex - Strategic Leadership Management' 'Raubex- Personal Mastery'\n",
            " 'RCL FOODS Leadership Programme '\n",
            " 'Rescorp Coaching for Exceptional Performance ' 'Research and Statistics'\n",
            " 'SA Retail Mass Leadership Acceleration III Programme'\n",
            " 'Safripol Ignite Leadership Programme ' 'Sales & Business Development'\n",
            " 'Scenario Planning and Strategic Thinking'\n",
            " 'Shell Coaching Culture Coaching Programme '\n",
            " 'Standard Bank Advanced Diploma General Management '\n",
            " 'Standard Bank of South Africa Limited'\n",
            " 'Strategic Agility for Consultants'\n",
            " 'Strategic Finance and Value Creation'\n",
            " 'Strategic Leadership Decision Making' 'Strategic Marketing '\n",
            " 'Strategy & General Management' 'Strategy & Innovation'\n",
            " 'Strategy Bootcamp with Professor Nick Binedell '\n",
            " 'Strategy Execution - Leveraging the Latest Balanced Scorecard approach'\n",
            " 'Strategy, Innovation and Design Thinking Programme'\n",
            " 'SuperSport Industry Leaders Programme' 'Tech Entrepreneurship'\n",
            " 'TETA ILDP ' 'TETA International Executive Development Programme '\n",
            " 'TETA STRATEGIC INTERNATIONAL LEADERSHIP DEVELOPMENT PROGRAMME'\n",
            " 'The Expert Negotiator ' 'The Next Manager '\n",
            " 'The Power of Purpose Driven-Organisations'\n",
            " 'The UN Sustainable Development Goals -  Partnering to Deliver Shared Value'\n",
            " 'Thungela Resources - GM Accelerate Programme '\n",
            " 'Thungela Resources: Ascend Programme ' 'Thungela Resources Explore'\n",
            " 'Thungela Resources: Exceed Programme'\n",
            " 'Tsebo Middle Management Development Programme ' 'Turnaround Management'\n",
            " 'UP Leadership Programme'\n",
            " 'Vivo Energy Senior Leadership Development Programme '\n",
            " 'Volkswagen Group South Africa Dealer Leadership Development Programmes'\n",
            " 'W&R SETA AdvDip' 'W&R SETA ILDP PGDip '\n",
            " 'WACO International Executive Development Programme '\n",
            " 'Weir Minerals Women Leadership Development Programme '\n",
            " 'Women as Leaders '\n",
            " 'Women Entrepreneurship - Overcoming Barriers and Achieving Success']\n",
            "There are 160 unique programs in the dataset.\n"
          ]
        }
      ]
    },
    {
      "cell_type": "code",
      "source": [
        "df_data.head()"
      ],
      "metadata": {
        "id": "etMMKE5Rf78j",
        "colab": {
          "base_uri": "https://localhost:8080/",
          "height": 206
        },
        "outputId": "6139a344-8cc5-4bba-aa11-eb1fcc6665e0"
      },
      "execution_count": null,
      "outputs": [
        {
          "output_type": "execute_result",
          "data": {
            "text/plain": [
              "                                   Course Name  Delivery Method  Enrolment  \\\n",
              "0  AB InBev Corporate Affairs Excise Programme                0        270   \n",
              "1  AB InBev Corporate Affairs Excise Programme                0         15   \n",
              "2  AB InBev Corporate Affairs Excise Programme                0         45   \n",
              "3  AB InBev Corporate Affairs Excise Programme                0         15   \n",
              "4  AB InBev Corporate Affairs Excise Programme                0         15   \n",
              "\n",
              "   Respondents  Response Rate  Student Satisfaction Score  \n",
              "0          108            0.4                      0.0000  \n",
              "1            6            0.4                      0.0000  \n",
              "2           18            0.4                      0.0000  \n",
              "3            6            0.4                      0.8333  \n",
              "4            6            0.4                      0.8333  "
            ],
            "text/html": [
              "\n",
              "  <div id=\"df-ecd2365b-b1c4-4445-a529-ff20942da4f0\" class=\"colab-df-container\">\n",
              "    <div>\n",
              "<style scoped>\n",
              "    .dataframe tbody tr th:only-of-type {\n",
              "        vertical-align: middle;\n",
              "    }\n",
              "\n",
              "    .dataframe tbody tr th {\n",
              "        vertical-align: top;\n",
              "    }\n",
              "\n",
              "    .dataframe thead th {\n",
              "        text-align: right;\n",
              "    }\n",
              "</style>\n",
              "<table border=\"1\" class=\"dataframe\">\n",
              "  <thead>\n",
              "    <tr style=\"text-align: right;\">\n",
              "      <th></th>\n",
              "      <th>Course Name</th>\n",
              "      <th>Delivery Method</th>\n",
              "      <th>Enrolment</th>\n",
              "      <th>Respondents</th>\n",
              "      <th>Response Rate</th>\n",
              "      <th>Student Satisfaction Score</th>\n",
              "    </tr>\n",
              "  </thead>\n",
              "  <tbody>\n",
              "    <tr>\n",
              "      <th>0</th>\n",
              "      <td>AB InBev Corporate Affairs Excise Programme</td>\n",
              "      <td>0</td>\n",
              "      <td>270</td>\n",
              "      <td>108</td>\n",
              "      <td>0.4</td>\n",
              "      <td>0.0000</td>\n",
              "    </tr>\n",
              "    <tr>\n",
              "      <th>1</th>\n",
              "      <td>AB InBev Corporate Affairs Excise Programme</td>\n",
              "      <td>0</td>\n",
              "      <td>15</td>\n",
              "      <td>6</td>\n",
              "      <td>0.4</td>\n",
              "      <td>0.0000</td>\n",
              "    </tr>\n",
              "    <tr>\n",
              "      <th>2</th>\n",
              "      <td>AB InBev Corporate Affairs Excise Programme</td>\n",
              "      <td>0</td>\n",
              "      <td>45</td>\n",
              "      <td>18</td>\n",
              "      <td>0.4</td>\n",
              "      <td>0.0000</td>\n",
              "    </tr>\n",
              "    <tr>\n",
              "      <th>3</th>\n",
              "      <td>AB InBev Corporate Affairs Excise Programme</td>\n",
              "      <td>0</td>\n",
              "      <td>15</td>\n",
              "      <td>6</td>\n",
              "      <td>0.4</td>\n",
              "      <td>0.8333</td>\n",
              "    </tr>\n",
              "    <tr>\n",
              "      <th>4</th>\n",
              "      <td>AB InBev Corporate Affairs Excise Programme</td>\n",
              "      <td>0</td>\n",
              "      <td>15</td>\n",
              "      <td>6</td>\n",
              "      <td>0.4</td>\n",
              "      <td>0.8333</td>\n",
              "    </tr>\n",
              "  </tbody>\n",
              "</table>\n",
              "</div>\n",
              "    <div class=\"colab-df-buttons\">\n",
              "\n",
              "  <div class=\"colab-df-container\">\n",
              "    <button class=\"colab-df-convert\" onclick=\"convertToInteractive('df-ecd2365b-b1c4-4445-a529-ff20942da4f0')\"\n",
              "            title=\"Convert this dataframe to an interactive table.\"\n",
              "            style=\"display:none;\">\n",
              "\n",
              "  <svg xmlns=\"http://www.w3.org/2000/svg\" height=\"24px\" viewBox=\"0 -960 960 960\">\n",
              "    <path d=\"M120-120v-720h720v720H120Zm60-500h600v-160H180v160Zm220 220h160v-160H400v160Zm0 220h160v-160H400v160ZM180-400h160v-160H180v160Zm440 0h160v-160H620v160ZM180-180h160v-160H180v160Zm440 0h160v-160H620v160Z\"/>\n",
              "  </svg>\n",
              "    </button>\n",
              "\n",
              "  <style>\n",
              "    .colab-df-container {\n",
              "      display:flex;\n",
              "      gap: 12px;\n",
              "    }\n",
              "\n",
              "    .colab-df-convert {\n",
              "      background-color: #E8F0FE;\n",
              "      border: none;\n",
              "      border-radius: 50%;\n",
              "      cursor: pointer;\n",
              "      display: none;\n",
              "      fill: #1967D2;\n",
              "      height: 32px;\n",
              "      padding: 0 0 0 0;\n",
              "      width: 32px;\n",
              "    }\n",
              "\n",
              "    .colab-df-convert:hover {\n",
              "      background-color: #E2EBFA;\n",
              "      box-shadow: 0px 1px 2px rgba(60, 64, 67, 0.3), 0px 1px 3px 1px rgba(60, 64, 67, 0.15);\n",
              "      fill: #174EA6;\n",
              "    }\n",
              "\n",
              "    .colab-df-buttons div {\n",
              "      margin-bottom: 4px;\n",
              "    }\n",
              "\n",
              "    [theme=dark] .colab-df-convert {\n",
              "      background-color: #3B4455;\n",
              "      fill: #D2E3FC;\n",
              "    }\n",
              "\n",
              "    [theme=dark] .colab-df-convert:hover {\n",
              "      background-color: #434B5C;\n",
              "      box-shadow: 0px 1px 3px 1px rgba(0, 0, 0, 0.15);\n",
              "      filter: drop-shadow(0px 1px 2px rgba(0, 0, 0, 0.3));\n",
              "      fill: #FFFFFF;\n",
              "    }\n",
              "  </style>\n",
              "\n",
              "    <script>\n",
              "      const buttonEl =\n",
              "        document.querySelector('#df-ecd2365b-b1c4-4445-a529-ff20942da4f0 button.colab-df-convert');\n",
              "      buttonEl.style.display =\n",
              "        google.colab.kernel.accessAllowed ? 'block' : 'none';\n",
              "\n",
              "      async function convertToInteractive(key) {\n",
              "        const element = document.querySelector('#df-ecd2365b-b1c4-4445-a529-ff20942da4f0');\n",
              "        const dataTable =\n",
              "          await google.colab.kernel.invokeFunction('convertToInteractive',\n",
              "                                                    [key], {});\n",
              "        if (!dataTable) return;\n",
              "\n",
              "        const docLinkHtml = 'Like what you see? Visit the ' +\n",
              "          '<a target=\"_blank\" href=https://colab.research.google.com/notebooks/data_table.ipynb>data table notebook</a>'\n",
              "          + ' to learn more about interactive tables.';\n",
              "        element.innerHTML = '';\n",
              "        dataTable['output_type'] = 'display_data';\n",
              "        await google.colab.output.renderOutput(dataTable, element);\n",
              "        const docLink = document.createElement('div');\n",
              "        docLink.innerHTML = docLinkHtml;\n",
              "        element.appendChild(docLink);\n",
              "      }\n",
              "    </script>\n",
              "  </div>\n",
              "\n",
              "\n",
              "<div id=\"df-997750e6-3f9c-4ebf-9976-ad5182089e6f\">\n",
              "  <button class=\"colab-df-quickchart\" onclick=\"quickchart('df-997750e6-3f9c-4ebf-9976-ad5182089e6f')\"\n",
              "            title=\"Suggest charts\"\n",
              "            style=\"display:none;\">\n",
              "\n",
              "<svg xmlns=\"http://www.w3.org/2000/svg\" height=\"24px\"viewBox=\"0 0 24 24\"\n",
              "     width=\"24px\">\n",
              "    <g>\n",
              "        <path d=\"M19 3H5c-1.1 0-2 .9-2 2v14c0 1.1.9 2 2 2h14c1.1 0 2-.9 2-2V5c0-1.1-.9-2-2-2zM9 17H7v-7h2v7zm4 0h-2V7h2v10zm4 0h-2v-4h2v4z\"/>\n",
              "    </g>\n",
              "</svg>\n",
              "  </button>\n",
              "\n",
              "<style>\n",
              "  .colab-df-quickchart {\n",
              "      --bg-color: #E8F0FE;\n",
              "      --fill-color: #1967D2;\n",
              "      --hover-bg-color: #E2EBFA;\n",
              "      --hover-fill-color: #174EA6;\n",
              "      --disabled-fill-color: #AAA;\n",
              "      --disabled-bg-color: #DDD;\n",
              "  }\n",
              "\n",
              "  [theme=dark] .colab-df-quickchart {\n",
              "      --bg-color: #3B4455;\n",
              "      --fill-color: #D2E3FC;\n",
              "      --hover-bg-color: #434B5C;\n",
              "      --hover-fill-color: #FFFFFF;\n",
              "      --disabled-bg-color: #3B4455;\n",
              "      --disabled-fill-color: #666;\n",
              "  }\n",
              "\n",
              "  .colab-df-quickchart {\n",
              "    background-color: var(--bg-color);\n",
              "    border: none;\n",
              "    border-radius: 50%;\n",
              "    cursor: pointer;\n",
              "    display: none;\n",
              "    fill: var(--fill-color);\n",
              "    height: 32px;\n",
              "    padding: 0;\n",
              "    width: 32px;\n",
              "  }\n",
              "\n",
              "  .colab-df-quickchart:hover {\n",
              "    background-color: var(--hover-bg-color);\n",
              "    box-shadow: 0 1px 2px rgba(60, 64, 67, 0.3), 0 1px 3px 1px rgba(60, 64, 67, 0.15);\n",
              "    fill: var(--button-hover-fill-color);\n",
              "  }\n",
              "\n",
              "  .colab-df-quickchart-complete:disabled,\n",
              "  .colab-df-quickchart-complete:disabled:hover {\n",
              "    background-color: var(--disabled-bg-color);\n",
              "    fill: var(--disabled-fill-color);\n",
              "    box-shadow: none;\n",
              "  }\n",
              "\n",
              "  .colab-df-spinner {\n",
              "    border: 2px solid var(--fill-color);\n",
              "    border-color: transparent;\n",
              "    border-bottom-color: var(--fill-color);\n",
              "    animation:\n",
              "      spin 1s steps(1) infinite;\n",
              "  }\n",
              "\n",
              "  @keyframes spin {\n",
              "    0% {\n",
              "      border-color: transparent;\n",
              "      border-bottom-color: var(--fill-color);\n",
              "      border-left-color: var(--fill-color);\n",
              "    }\n",
              "    20% {\n",
              "      border-color: transparent;\n",
              "      border-left-color: var(--fill-color);\n",
              "      border-top-color: var(--fill-color);\n",
              "    }\n",
              "    30% {\n",
              "      border-color: transparent;\n",
              "      border-left-color: var(--fill-color);\n",
              "      border-top-color: var(--fill-color);\n",
              "      border-right-color: var(--fill-color);\n",
              "    }\n",
              "    40% {\n",
              "      border-color: transparent;\n",
              "      border-right-color: var(--fill-color);\n",
              "      border-top-color: var(--fill-color);\n",
              "    }\n",
              "    60% {\n",
              "      border-color: transparent;\n",
              "      border-right-color: var(--fill-color);\n",
              "    }\n",
              "    80% {\n",
              "      border-color: transparent;\n",
              "      border-right-color: var(--fill-color);\n",
              "      border-bottom-color: var(--fill-color);\n",
              "    }\n",
              "    90% {\n",
              "      border-color: transparent;\n",
              "      border-bottom-color: var(--fill-color);\n",
              "    }\n",
              "  }\n",
              "</style>\n",
              "\n",
              "  <script>\n",
              "    async function quickchart(key) {\n",
              "      const quickchartButtonEl =\n",
              "        document.querySelector('#' + key + ' button');\n",
              "      quickchartButtonEl.disabled = true;  // To prevent multiple clicks.\n",
              "      quickchartButtonEl.classList.add('colab-df-spinner');\n",
              "      try {\n",
              "        const charts = await google.colab.kernel.invokeFunction(\n",
              "            'suggestCharts', [key], {});\n",
              "      } catch (error) {\n",
              "        console.error('Error during call to suggestCharts:', error);\n",
              "      }\n",
              "      quickchartButtonEl.classList.remove('colab-df-spinner');\n",
              "      quickchartButtonEl.classList.add('colab-df-quickchart-complete');\n",
              "    }\n",
              "    (() => {\n",
              "      let quickchartButtonEl =\n",
              "        document.querySelector('#df-997750e6-3f9c-4ebf-9976-ad5182089e6f button');\n",
              "      quickchartButtonEl.style.display =\n",
              "        google.colab.kernel.accessAllowed ? 'block' : 'none';\n",
              "    })();\n",
              "  </script>\n",
              "</div>\n",
              "\n",
              "    </div>\n",
              "  </div>\n"
            ],
            "application/vnd.google.colaboratory.intrinsic+json": {
              "type": "dataframe",
              "variable_name": "df_data",
              "summary": "{\n  \"name\": \"df_data\",\n  \"rows\": 28359,\n  \"fields\": [\n    {\n      \"column\": \"Course Name\",\n      \"properties\": {\n        \"dtype\": \"category\",\n        \"num_unique_values\": 160,\n        \"samples\": [\n          \"Persuasion - The art and science of influence\",\n          \"PMI-SA Women Leadership Development Programme \",\n          \"The Expert Negotiator \"\n        ],\n        \"semantic_type\": \"\",\n        \"description\": \"\"\n      }\n    },\n    {\n      \"column\": \"Delivery Method\",\n      \"properties\": {\n        \"dtype\": \"number\",\n        \"std\": 0,\n        \"min\": 0,\n        \"max\": 2,\n        \"num_unique_values\": 3,\n        \"samples\": [\n          0,\n          1,\n          2\n        ],\n        \"semantic_type\": \"\",\n        \"description\": \"\"\n      }\n    },\n    {\n      \"column\": \"Enrolment\",\n      \"properties\": {\n        \"dtype\": \"number\",\n        \"std\": 511,\n        \"min\": 1,\n        \"max\": 28080,\n        \"num_unique_values\": 722,\n        \"samples\": [\n          434,\n          1314,\n          779\n        ],\n        \"semantic_type\": \"\",\n        \"description\": \"\"\n      }\n    },\n    {\n      \"column\": \"Respondents\",\n      \"properties\": {\n        \"dtype\": \"number\",\n        \"std\": 278,\n        \"min\": 1,\n        \"max\": 15680,\n        \"num_unique_values\": 461,\n        \"samples\": [\n          273,\n          10,\n          140\n        ],\n        \"semantic_type\": \"\",\n        \"description\": \"\"\n      }\n    },\n    {\n      \"column\": \"Response Rate\",\n      \"properties\": {\n        \"dtype\": \"number\",\n        \"std\": 0.5436989327170503,\n        \"min\": 0.004,\n        \"max\": 10.0,\n        \"num_unique_values\": 271,\n        \"samples\": [\n          0.125,\n          0.028999999999999998,\n          0.13\n        ],\n        \"semantic_type\": \"\",\n        \"description\": \"\"\n      }\n    },\n    {\n      \"column\": \"Student Satisfaction Score\",\n      \"properties\": {\n        \"dtype\": \"number\",\n        \"std\": 0.4376056157743198,\n        \"min\": 0.0,\n        \"max\": 1.0,\n        \"num_unique_values\": 7,\n        \"samples\": [\n          0.0,\n          0.8332999999999999,\n          0.6667000000000001\n        ],\n        \"semantic_type\": \"\",\n        \"description\": \"\"\n      }\n    }\n  ]\n}"
            }
          },
          "metadata": {},
          "execution_count": 16
        }
      ]
    },
    {
      "source": [
        "#Average Student Satisfaction Score by Delivery Method\n",
        "\n",
        "import matplotlib.pyplot as plt\n",
        "\n",
        "avg_satisfaction = df_data.groupby('Delivery Method')['Student Satisfaction Score'].mean()\n",
        "\n",
        "plt.figure(figsize=(8, 6))\n",
        "plt.bar(avg_satisfaction.index, avg_satisfaction.values)\n",
        "plt.xlabel('Delivery Method')\n",
        "plt.ylabel('Average Student Satisfaction Score')\n",
        "_ = plt.title('Average Student Satisfaction Score by Delivery Method')"
      ],
      "cell_type": "code",
      "execution_count": null,
      "outputs": [
        {
          "output_type": "display_data",
          "data": {
            "text/plain": [
              "<Figure size 800x600 with 1 Axes>"
            ],
            "image/png": "[encoded data removed]"
          },
          "metadata": {}
        }
      ],
      "metadata": {
        "colab": {
          "base_uri": "https://localhost:8080/",
          "height": 564
        },
        "id": "Y_1TdyTyLXI4",
        "outputId": "f4e98b6d-534b-42f2-aa4e-184d7c8f78df"
      }
    },
    {
      "cell_type": "code",
      "source": [
        "# Statistical analysis\n",
        "df_data.describe()"
      ],
      "metadata": {
        "id": "Zphw3zugj4lC",
        "colab": {
          "base_uri": "https://localhost:8080/",
          "height": 300
        },
        "outputId": "66468488-92e5-474f-a80f-2c6b424cdd64"
      },
      "execution_count": null,
      "outputs": [
        {
          "output_type": "execute_result",
          "data": {
            "text/plain": [
              "       Delivery Method     Enrolment   Respondents  Response Rate  \\\n",
              "count     28359.000000  28359.000000  28359.000000   28359.000000   \n",
              "mean          0.433266    122.905744     48.786311       0.404993   \n",
              "std           0.669093    511.648135    278.313771       0.543699   \n",
              "min           0.000000      1.000000      1.000000       0.004000   \n",
              "25%           0.000000     26.000000      7.000000       0.167000   \n",
              "50%           0.000000     45.000000     14.000000       0.286000   \n",
              "75%           1.000000     83.000000     30.000000       0.514000   \n",
              "max           2.000000  28080.000000  15680.000000      10.000000   \n",
              "\n",
              "       Student Satisfaction Score  \n",
              "count                28359.000000  \n",
              "mean                     0.495312  \n",
              "std                      0.437606  \n",
              "min                      0.000000  \n",
              "25%                      0.000000  \n",
              "50%                      0.666700  \n",
              "75%                      1.000000  \n",
              "max                      1.000000  "
            ],
            "text/html": [
              "\n",
              "  <div id=\"df-146abea2-7230-4863-8729-c3175e03b2e7\" class=\"colab-df-container\">\n",
              "    <div>\n",
              "<style scoped>\n",
              "    .dataframe tbody tr th:only-of-type {\n",
              "        vertical-align: middle;\n",
              "    }\n",
              "\n",
              "    .dataframe tbody tr th {\n",
              "        vertical-align: top;\n",
              "    }\n",
              "\n",
              "    .dataframe thead th {\n",
              "        text-align: right;\n",
              "    }\n",
              "</style>\n",
              "<table border=\"1\" class=\"dataframe\">\n",
              "  <thead>\n",
              "    <tr style=\"text-align: right;\">\n",
              "      <th></th>\n",
              "      <th>Delivery Method</th>\n",
              "      <th>Enrolment</th>\n",
              "      <th>Respondents</th>\n",
              "      <th>Response Rate</th>\n",
              "      <th>Student Satisfaction Score</th>\n",
              "    </tr>\n",
              "  </thead>\n",
              "  <tbody>\n",
              "    <tr>\n",
              "      <th>count</th>\n",
              "      <td>28359.000000</td>\n",
              "      <td>28359.000000</td>\n",
              "      <td>28359.000000</td>\n",
              "      <td>28359.000000</td>\n",
              "      <td>28359.000000</td>\n",
              "    </tr>\n",
              "    <tr>\n",
              "      <th>mean</th>\n",
              "      <td>0.433266</td>\n",
              "      <td>122.905744</td>\n",
              "      <td>48.786311</td>\n",
              "      <td>0.404993</td>\n",
              "      <td>0.495312</td>\n",
              "    </tr>\n",
              "    <tr>\n",
              "      <th>std</th>\n",
              "      <td>0.669093</td>\n",
              "      <td>511.648135</td>\n",
              "      <td>278.313771</td>\n",
              "      <td>0.543699</td>\n",
              "      <td>0.437606</td>\n",
              "    </tr>\n",
              "    <tr>\n",
              "      <th>min</th>\n",
              "      <td>0.000000</td>\n",
              "      <td>1.000000</td>\n",
              "      <td>1.000000</td>\n",
              "      <td>0.004000</td>\n",
              "      <td>0.000000</td>\n",
              "    </tr>\n",
              "    <tr>\n",
              "      <th>25%</th>\n",
              "      <td>0.000000</td>\n",
              "      <td>26.000000</td>\n",
              "      <td>7.000000</td>\n",
              "      <td>0.167000</td>\n",
              "      <td>0.000000</td>\n",
              "    </tr>\n",
              "    <tr>\n",
              "      <th>50%</th>\n",
              "      <td>0.000000</td>\n",
              "      <td>45.000000</td>\n",
              "      <td>14.000000</td>\n",
              "      <td>0.286000</td>\n",
              "      <td>0.666700</td>\n",
              "    </tr>\n",
              "    <tr>\n",
              "      <th>75%</th>\n",
              "      <td>1.000000</td>\n",
              "      <td>83.000000</td>\n",
              "      <td>30.000000</td>\n",
              "      <td>0.514000</td>\n",
              "      <td>1.000000</td>\n",
              "    </tr>\n",
              "    <tr>\n",
              "      <th>max</th>\n",
              "      <td>2.000000</td>\n",
              "      <td>28080.000000</td>\n",
              "      <td>15680.000000</td>\n",
              "      <td>10.000000</td>\n",
              "      <td>1.000000</td>\n",
              "    </tr>\n",
              "  </tbody>\n",
              "</table>\n",
              "</div>\n",
              "    <div class=\"colab-df-buttons\">\n",
              "\n",
              "  <div class=\"colab-df-container\">\n",
              "    <button class=\"colab-df-convert\" onclick=\"convertToInteractive('df-146abea2-7230-4863-8729-c3175e03b2e7')\"\n",
              "            title=\"Convert this dataframe to an interactive table.\"\n",
              "            style=\"display:none;\">\n",
              "\n",
              "  <svg xmlns=\"http://www.w3.org/2000/svg\" height=\"24px\" viewBox=\"0 -960 960 960\">\n",
              "    <path d=\"M120-120v-720h720v720H120Zm60-500h600v-160H180v160Zm220 220h160v-160H400v160Zm0 220h160v-160H400v160ZM180-400h160v-160H180v160Zm440 0h160v-160H620v160ZM180-180h160v-160H180v160Zm440 0h160v-160H620v160Z\"/>\n",
              "  </svg>\n",
              "    </button>\n",
              "\n",
              "  <style>\n",
              "    .colab-df-container {\n",
              "      display:flex;\n",
              "      gap: 12px;\n",
              "    }\n",
              "\n",
              "    .colab-df-convert {\n",
              "      background-color: #E8F0FE;\n",
              "      border: none;\n",
              "      border-radius: 50%;\n",
              "      cursor: pointer;\n",
              "      display: none;\n",
              "      fill: #1967D2;\n",
              "      height: 32px;\n",
              "      padding: 0 0 0 0;\n",
              "      width: 32px;\n",
              "    }\n",
              "\n",
              "    .colab-df-convert:hover {\n",
              "      background-color: #E2EBFA;\n",
              "      box-shadow: 0px 1px 2px rgba(60, 64, 67, 0.3), 0px 1px 3px 1px rgba(60, 64, 67, 0.15);\n",
              "      fill: #174EA6;\n",
              "    }\n",
              "\n",
              "    .colab-df-buttons div {\n",
              "      margin-bottom: 4px;\n",
              "    }\n",
              "\n",
              "    [theme=dark] .colab-df-convert {\n",
              "      background-color: #3B4455;\n",
              "      fill: #D2E3FC;\n",
              "    }\n",
              "\n",
              "    [theme=dark] .colab-df-convert:hover {\n",
              "      background-color: #434B5C;\n",
              "      box-shadow: 0px 1px 3px 1px rgba(0, 0, 0, 0.15);\n",
              "      filter: drop-shadow(0px 1px 2px rgba(0, 0, 0, 0.3));\n",
              "      fill: #FFFFFF;\n",
              "    }\n",
              "  </style>\n",
              "\n",
              "    <script>\n",
              "      const buttonEl =\n",
              "        document.querySelector('#df-146abea2-7230-4863-8729-c3175e03b2e7 button.colab-df-convert');\n",
              "      buttonEl.style.display =\n",
              "        google.colab.kernel.accessAllowed ? 'block' : 'none';\n",
              "\n",
              "      async function convertToInteractive(key) {\n",
              "        const element = document.querySelector('#df-146abea2-7230-4863-8729-c3175e03b2e7');\n",
              "        const dataTable =\n",
              "          await google.colab.kernel.invokeFunction('convertToInteractive',\n",
              "                                                    [key], {});\n",
              "        if (!dataTable) return;\n",
              "\n",
              "        const docLinkHtml = 'Like what you see? Visit the ' +\n",
              "          '<a target=\"_blank\" href=https://colab.research.google.com/notebooks/data_table.ipynb>data table notebook</a>'\n",
              "          + ' to learn more about interactive tables.';\n",
              "        element.innerHTML = '';\n",
              "        dataTable['output_type'] = 'display_data';\n",
              "        await google.colab.output.renderOutput(dataTable, element);\n",
              "        const docLink = document.createElement('div');\n",
              "        docLink.innerHTML = docLinkHtml;\n",
              "        element.appendChild(docLink);\n",
              "      }\n",
              "    </script>\n",
              "  </div>\n",
              "\n",
              "\n",
              "<div id=\"df-6dde8817-c42e-4083-8cb7-6ffc216e4455\">\n",
              "  <button class=\"colab-df-quickchart\" onclick=\"quickchart('df-6dde8817-c42e-4083-8cb7-6ffc216e4455')\"\n",
              "            title=\"Suggest charts\"\n",
              "            style=\"display:none;\">\n",
              "\n",
              "<svg xmlns=\"http://www.w3.org/2000/svg\" height=\"24px\"viewBox=\"0 0 24 24\"\n",
              "     width=\"24px\">\n",
              "    <g>\n",
              "        <path d=\"M19 3H5c-1.1 0-2 .9-2 2v14c0 1.1.9 2 2 2h14c1.1 0 2-.9 2-2V5c0-1.1-.9-2-2-2zM9 17H7v-7h2v7zm4 0h-2V7h2v10zm4 0h-2v-4h2v4z\"/>\n",
              "    </g>\n",
              "</svg>\n",
              "  </button>\n",
              "\n",
              "<style>\n",
              "  .colab-df-quickchart {\n",
              "      --bg-color: #E8F0FE;\n",
              "      --fill-color: #1967D2;\n",
              "      --hover-bg-color: #E2EBFA;\n",
              "      --hover-fill-color: #174EA6;\n",
              "      --disabled-fill-color: #AAA;\n",
              "      --disabled-bg-color: #DDD;\n",
              "  }\n",
              "\n",
              "  [theme=dark] .colab-df-quickchart {\n",
              "      --bg-color: #3B4455;\n",
              "      --fill-color: #D2E3FC;\n",
              "      --hover-bg-color: #434B5C;\n",
              "      --hover-fill-color: #FFFFFF;\n",
              "      --disabled-bg-color: #3B4455;\n",
              "      --disabled-fill-color: #666;\n",
              "  }\n",
              "\n",
              "  .colab-df-quickchart {\n",
              "    background-color: var(--bg-color);\n",
              "    border: none;\n",
              "    border-radius: 50%;\n",
              "    cursor: pointer;\n",
              "    display: none;\n",
              "    fill: var(--fill-color);\n",
              "    height: 32px;\n",
              "    padding: 0;\n",
              "    width: 32px;\n",
              "  }\n",
              "\n",
              "  .colab-df-quickchart:hover {\n",
              "    background-color: var(--hover-bg-color);\n",
              "    box-shadow: 0 1px 2px rgba(60, 64, 67, 0.3), 0 1px 3px 1px rgba(60, 64, 67, 0.15);\n",
              "    fill: var(--button-hover-fill-color);\n",
              "  }\n",
              "\n",
              "  .colab-df-quickchart-complete:disabled,\n",
              "  .colab-df-quickchart-complete:disabled:hover {\n",
              "    background-color: var(--disabled-bg-color);\n",
              "    fill: var(--disabled-fill-color);\n",
              "    box-shadow: none;\n",
              "  }\n",
              "\n",
              "  .colab-df-spinner {\n",
              "    border: 2px solid var(--fill-color);\n",
              "    border-color: transparent;\n",
              "    border-bottom-color: var(--fill-color);\n",
              "    animation:\n",
              "      spin 1s steps(1) infinite;\n",
              "  }\n",
              "\n",
              "  @keyframes spin {\n",
              "    0% {\n",
              "      border-color: transparent;\n",
              "      border-bottom-color: var(--fill-color);\n",
              "      border-left-color: var(--fill-color);\n",
              "    }\n",
              "    20% {\n",
              "      border-color: transparent;\n",
              "      border-left-color: var(--fill-color);\n",
              "      border-top-color: var(--fill-color);\n",
              "    }\n",
              "    30% {\n",
              "      border-color: transparent;\n",
              "      border-left-color: var(--fill-color);\n",
              "      border-top-color: var(--fill-color);\n",
              "      border-right-color: var(--fill-color);\n",
              "    }\n",
              "    40% {\n",
              "      border-color: transparent;\n",
              "      border-right-color: var(--fill-color);\n",
              "      border-top-color: var(--fill-color);\n",
              "    }\n",
              "    60% {\n",
              "      border-color: transparent;\n",
              "      border-right-color: var(--fill-color);\n",
              "    }\n",
              "    80% {\n",
              "      border-color: transparent;\n",
              "      border-right-color: var(--fill-color);\n",
              "      border-bottom-color: var(--fill-color);\n",
              "    }\n",
              "    90% {\n",
              "      border-color: transparent;\n",
              "      border-bottom-color: var(--fill-color);\n",
              "    }\n",
              "  }\n",
              "</style>\n",
              "\n",
              "  <script>\n",
              "    async function quickchart(key) {\n",
              "      const quickchartButtonEl =\n",
              "        document.querySelector('#' + key + ' button');\n",
              "      quickchartButtonEl.disabled = true;  // To prevent multiple clicks.\n",
              "      quickchartButtonEl.classList.add('colab-df-spinner');\n",
              "      try {\n",
              "        const charts = await google.colab.kernel.invokeFunction(\n",
              "            'suggestCharts', [key], {});\n",
              "      } catch (error) {\n",
              "        console.error('Error during call to suggestCharts:', error);\n",
              "      }\n",
              "      quickchartButtonEl.classList.remove('colab-df-spinner');\n",
              "      quickchartButtonEl.classList.add('colab-df-quickchart-complete');\n",
              "    }\n",
              "    (() => {\n",
              "      let quickchartButtonEl =\n",
              "        document.querySelector('#df-6dde8817-c42e-4083-8cb7-6ffc216e4455 button');\n",
              "      quickchartButtonEl.style.display =\n",
              "        google.colab.kernel.accessAllowed ? 'block' : 'none';\n",
              "    })();\n",
              "  </script>\n",
              "</div>\n",
              "\n",
              "    </div>\n",
              "  </div>\n"
            ],
            "application/vnd.google.colaboratory.intrinsic+json": {
              "type": "dataframe",
              "summary": "{\n  \"name\": \"df_data\",\n  \"rows\": 8,\n  \"fields\": [\n    {\n      \"column\": \"Delivery Method\",\n      \"properties\": {\n        \"dtype\": \"number\",\n        \"std\": 10026.213426427978,\n        \"min\": 0.0,\n        \"max\": 28359.0,\n        \"num_unique_values\": 6,\n        \"samples\": [\n          28359.0,\n          0.43326633520222857,\n          2.0\n        ],\n        \"semantic_type\": \"\",\n        \"description\": \"\"\n      }\n    },\n    {\n      \"column\": \"Enrolment\",\n      \"properties\": {\n        \"dtype\": \"number\",\n        \"std\": 13003.39153149026,\n        \"min\": 1.0,\n        \"max\": 28359.0,\n        \"num_unique_values\": 8,\n        \"samples\": [\n          122.90574420818788,\n          45.0,\n          28359.0\n        ],\n        \"semantic_type\": \"\",\n        \"description\": \"\"\n      }\n    },\n    {\n      \"column\": \"Respondents\",\n      \"properties\": {\n        \"dtype\": \"number\",\n        \"std\": 10714.178281892016,\n        \"min\": 1.0,\n        \"max\": 28359.0,\n        \"num_unique_values\": 8,\n        \"samples\": [\n          48.78631122395007,\n          14.0,\n          28359.0\n        ],\n        \"semantic_type\": \"\",\n        \"description\": \"\"\n      }\n    },\n    {\n      \"column\": \"Response Rate\",\n      \"properties\": {\n        \"dtype\": \"number\",\n        \"std\": 10025.819142233171,\n        \"min\": 0.004,\n        \"max\": 28359.0,\n        \"num_unique_values\": 8,\n        \"samples\": [\n          0.4049934764977608,\n          0.28600000000000003,\n          28359.0\n        ],\n        \"semantic_type\": \"\",\n        \"description\": \"\"\n      }\n    },\n    {\n      \"column\": \"Student Satisfaction Score\",\n      \"properties\": {\n        \"dtype\": \"number\",\n        \"std\": 10026.238803029182,\n        \"min\": 0.0,\n        \"max\": 28359.0,\n        \"num_unique_values\": 6,\n        \"samples\": [\n          28359.0,\n          0.4953120138227723,\n          1.0\n        ],\n        \"semantic_type\": \"\",\n        \"description\": \"\"\n      }\n    }\n  ]\n}"
            }
          },
          "metadata": {},
          "execution_count": 18
        }
      ]
    },
    {
      "cell_type": "markdown",
      "source": [
        "**Data Cleaning Interpretation**\n",
        "\n",
        "Missing data from the dataset was cleaned.\n",
        "\n"
      ],
      "metadata": {
        "id": "-mG7vz0RkDDq"
      }
    },
    {
      "cell_type": "markdown",
      "source": [
        "**Preprocessing and compiling a training set and test set**"
      ],
      "metadata": {
        "id": "ihVZ8jk7UH01"
      }
    },
    {
      "cell_type": "code",
      "source": [
        "from sklearn.feature_extraction.text import TfidfVectorizer"
      ],
      "metadata": {
        "id": "ctnxA2c5UGhm"
      },
      "execution_count": null,
      "outputs": []
    },
    {
      "cell_type": "code",
      "source": [
        "# Feature extraction\n",
        "vectorizer = TfidfVectorizer()\n",
        "X = vectorizer.fit_transform(df_data['Course Name'])\n",
        "y = df_data['Delivery Method']\n",
        "\n",
        "print(X.shape)\n",
        "print(y.shape)"
      ],
      "metadata": {
        "id": "Bw0wav-3hcdo",
        "colab": {
          "base_uri": "https://localhost:8080/"
        },
        "outputId": "0cc4ceea-6e29-4f25-bb5e-647297dd0e01"
      },
      "execution_count": null,
      "outputs": [
        {
          "output_type": "stream",
          "name": "stdout",
          "text": [
            "(28359, 309)\n",
            "(28359,)\n"
          ]
        }
      ]
    },
    {
      "cell_type": "markdown",
      "source": [
        "**Training and testing**"
      ],
      "metadata": {
        "id": "kVpdIiyDevYt"
      }
    },
    {
      "cell_type": "code",
      "source": [
        "# Creating training set and test set\n",
        "X_train, X_test, y_train, y_test = train_test_split(X, y, test_size=0.2, random_state=42)"
      ],
      "metadata": {
        "id": "k31D4GYIVx42"
      },
      "execution_count": null,
      "outputs": []
    },
    {
      "cell_type": "code",
      "source": [
        "# Scaling with standardscaler\n",
        "\n",
        "from sklearn.preprocessing import MaxAbsScaler  # Import MaxAbsScaler\n",
        "\n",
        "scaler = MaxAbsScaler()  # Use MaxAbsScaler instead of MinMaxScaler\n",
        "\n",
        "scaler.fit(X_train)\n",
        "X_train = scaler.transform(X_train)\n",
        "X_test = scaler.transform(X_test)"
      ],
      "metadata": {
        "id": "JZdBBSTn0S_T"
      },
      "execution_count": null,
      "outputs": []
    },
    {
      "cell_type": "code",
      "source": [
        "# Logistic Regression model\n",
        "model = LogisticRegression()\n",
        "model.fit(X_train, y_train)"
      ],
      "metadata": {
        "id": "WOLS8bb3V4T7",
        "colab": {
          "base_uri": "https://localhost:8080/",
          "height": 74
        },
        "outputId": "b717e461-9a29-44e5-8b34-51033d02c0f9"
      },
      "execution_count": null,
      "outputs": [
        {
          "output_type": "execute_result",
          "data": {
            "text/plain": [
              "LogisticRegression()"
            ],
            "text/html": [
              "<style>#sk-container-id-1 {color: black;background-color: white;}#sk-container-id-1 pre{padding: 0;}#sk-container-id-1 div.sk-toggleable {background-color: white;}#sk-container-id-1 label.sk-toggleable__label {cursor: pointer;display: block;width: 100%;margin-bottom: 0;padding: 0.3em;box-sizing: border-box;text-align: center;}#sk-container-id-1 label.sk-toggleable__label-arrow:before {content: \"▸\";float: left;margin-right: 0.25em;color: #696969;}#sk-container-id-1 label.sk-toggleable__label-arrow:hover:before {color: black;}#sk-container-id-1 div.sk-estimator:hover label.sk-toggleable__label-arrow:before {color: black;}#sk-container-id-1 div.sk-toggleable__content {max-height: 0;max-width: 0;overflow: hidden;text-align: left;background-color: #f0f8ff;}#sk-container-id-1 div.sk-toggleable__content pre {margin: 0.2em;color: black;border-radius: 0.25em;background-color: #f0f8ff;}#sk-container-id-1 input.sk-toggleable__control:checked~div.sk-toggleable__content {max-height: 200px;max-width: 100%;overflow: auto;}#sk-container-id-1 input.sk-toggleable__control:checked~label.sk-toggleable__label-arrow:before {content: \"▾\";}#sk-container-id-1 div.sk-estimator input.sk-toggleable__control:checked~label.sk-toggleable__label {background-color: #d4ebff;}#sk-container-id-1 div.sk-label input.sk-toggleable__control:checked~label.sk-toggleable__label {background-color: #d4ebff;}#sk-container-id-1 input.sk-hidden--visually {border: 0;clip: rect(1px 1px 1px 1px);clip: rect(1px, 1px, 1px, 1px);height: 1px;margin: -1px;overflow: hidden;padding: 0;position: absolute;width: 1px;}#sk-container-id-1 div.sk-estimator {font-family: monospace;background-color: #f0f8ff;border: 1px dotted black;border-radius: 0.25em;box-sizing: border-box;margin-bottom: 0.5em;}#sk-container-id-1 div.sk-estimator:hover {background-color: #d4ebff;}#sk-container-id-1 div.sk-parallel-item::after {content: \"\";width: 100%;border-bottom: 1px solid gray;flex-grow: 1;}#sk-container-id-1 div.sk-label:hover label.sk-toggleable__label {background-color: #d4ebff;}#sk-container-id-1 div.sk-serial::before {content: \"\";position: absolute;border-left: 1px solid gray;box-sizing: border-box;top: 0;bottom: 0;left: 50%;z-index: 0;}#sk-container-id-1 div.sk-serial {display: flex;flex-direction: column;align-items: center;background-color: white;padding-right: 0.2em;padding-left: 0.2em;position: relative;}#sk-container-id-1 div.sk-item {position: relative;z-index: 1;}#sk-container-id-1 div.sk-parallel {display: flex;align-items: stretch;justify-content: center;background-color: white;position: relative;}#sk-container-id-1 div.sk-item::before, #sk-container-id-1 div.sk-parallel-item::before {content: \"\";position: absolute;border-left: 1px solid gray;box-sizing: border-box;top: 0;bottom: 0;left: 50%;z-index: -1;}#sk-container-id-1 div.sk-parallel-item {display: flex;flex-direction: column;z-index: 1;position: relative;background-color: white;}#sk-container-id-1 div.sk-parallel-item:first-child::after {align-self: flex-end;width: 50%;}#sk-container-id-1 div.sk-parallel-item:last-child::after {align-self: flex-start;width: 50%;}#sk-container-id-1 div.sk-parallel-item:only-child::after {width: 0;}#sk-container-id-1 div.sk-dashed-wrapped {border: 1px dashed gray;margin: 0 0.4em 0.5em 0.4em;box-sizing: border-box;padding-bottom: 0.4em;background-color: white;}#sk-container-id-1 div.sk-label label {font-family: monospace;font-weight: bold;display: inline-block;line-height: 1.2em;}#sk-container-id-1 div.sk-label-container {text-align: center;}#sk-container-id-1 div.sk-container {/* jupyter's `normalize.less` sets `[hidden] { display: none; }` but bootstrap.min.css set `[hidden] { display: none !important; }` so we also need the `!important` here to be able to override the default hidden behavior on the sphinx rendered scikit-learn.org. See: https://github.com/scikit-learn/scikit-learn/issues/21755 */display: inline-block !important;position: relative;}#sk-container-id-1 div.sk-text-repr-fallback {display: none;}</style><div id=\"sk-container-id-1\" class=\"sk-top-container\"><div class=\"sk-text-repr-fallback\"><pre>LogisticRegression()</pre><b>In a Jupyter environment, please rerun this cell to show the HTML representation or trust the notebook. <br />On GitHub, the HTML representation is unable to render, please try loading this page with nbviewer.org.</b></div><div class=\"sk-container\" hidden><div class=\"sk-item\"><div class=\"sk-estimator sk-toggleable\"><input class=\"sk-toggleable__control sk-hidden--visually\" id=\"sk-estimator-id-1\" type=\"checkbox\" checked><label for=\"sk-estimator-id-1\" class=\"sk-toggleable__label sk-toggleable__label-arrow\">LogisticRegression</label><div class=\"sk-toggleable__content\"><pre>LogisticRegression()</pre></div></div></div></div></div>"
            ]
          },
          "metadata": {},
          "execution_count": 23
        }
      ]
    },
    {
      "cell_type": "code",
      "source": [
        "# Predictions\n",
        "y_pred = model.predict(X_test)"
      ],
      "metadata": {
        "id": "swOi2LwgV_cf"
      },
      "execution_count": null,
      "outputs": []
    },
    {
      "cell_type": "code",
      "source": [
        "# Evaluation\n",
        "print('Accuracy:', accuracy_score(y_test, y_pred))\n",
        "print('Confusion Matrix:\\n', confusion_matrix(y_test, y_pred))"
      ],
      "metadata": {
        "id": "0fNLb70dnkup",
        "colab": {
          "base_uri": "https://localhost:8080/"
        },
        "outputId": "9b3e944e-7788-4405-fd79-603909003abf"
      },
      "execution_count": null,
      "outputs": [
        {
          "output_type": "stream",
          "name": "stdout",
          "text": [
            "Accuracy: 0.8693582510578279\n",
            "Confusion Matrix:\n",
            " [[3666  140   26]\n",
            " [ 205 1078   23]\n",
            " [ 322   25  187]]\n"
          ]
        }
      ]
    },
    {
      "cell_type": "code",
      "source": [
        "from sklearn.metrics import classification_report\n",
        "\n",
        "# Print classification report\n",
        "print(classification_report(y_test, y_pred))"
      ],
      "metadata": {
        "id": "io7i7ookW1JJ",
        "colab": {
          "base_uri": "https://localhost:8080/"
        },
        "outputId": "edb1bd91-1315-4693-d2a6-cafecb52bbce"
      },
      "execution_count": null,
      "outputs": [
        {
          "output_type": "stream",
          "name": "stdout",
          "text": [
            "              precision    recall  f1-score   support\n",
            "\n",
            "           0       0.87      0.96      0.91      3832\n",
            "           1       0.87      0.83      0.85      1306\n",
            "           2       0.79      0.35      0.49       534\n",
            "\n",
            "    accuracy                           0.87      5672\n",
            "   macro avg       0.84      0.71      0.75      5672\n",
            "weighted avg       0.86      0.87      0.86      5672\n",
            "\n"
          ]
        }
      ]
    },
    {
      "cell_type": "markdown",
      "source": [
        " **Model Testing Interpretation\n",
        "Conclusion**\n",
        "\n",
        "- The high accuracy indicates that the model performs well overall.\n",
        "- Campus 0 and Online 1 have high precision and recall, indicating the model is good at predicting these classes.\n",
        "- Blended 2 has lower recall, suggesting the model might struggle with\n",
        "predicting this class correctly.\n",
        "\n",
        "These F1-scores indicate the model's performance for each class, considering both precision and recall. The high F1-scores across all classes suggest that the model performs well in predicting each class accurately.\n",
        "\n",
        "**Recommendations**\n",
        "\n",
        "To improve hybrid classes and increase student preference, focus on enhancing online content with interactive materials, diverse resources, and real-time feedback, while designing in-person sessions around active learning and practical application. Ensure seamless integration between online and in-person components, using a flipped classroom model and consistent themes. Leverage reliable technology, provide tech support, and offer personalized learning paths with flexible scheduling. Enhance communication with regular check-ins, peer support groups, and accessible instructors. Increase engagement through gamification and clear objectives, and continuously gather and act on student feedback to iteratively improve the hybrid learning experience.\n",
        "\n",
        "\n",
        "\n"
      ],
      "metadata": {
        "id": "2KIFZ0-6e6Ld"
      }
    },
    {
      "cell_type": "markdown",
      "source": [
        "**ANOVA(Analysis of Variance) model:**\n",
        "\n",
        "To perform an Analysis of Variance (ANOVA) to test for differences in student satisfaction scores across different delivery methods (online, campus, blended)"
      ],
      "metadata": {
        "id": "fhza4gw8-Je-"
      }
    },
    {
      "cell_type": "markdown",
      "source": [
        "**Primary Research Question:**\n",
        "\n",
        "Is there a significant difference in student satisfaction scores based on the delivery method (online, Campus, blended)?\n"
      ],
      "metadata": {
        "id": "mp8V6_aP7ktM"
      }
    },
    {
      "cell_type": "code",
      "source": [
        "# Perform ANOVA\n",
        "\n",
        "delivery_methods = df_data['Delivery Method'].unique()\n",
        "anova_data = {method:df_data['Student Satisfaction Score'][df_data['Delivery Method'] == method] for method in delivery_methods}\n"
      ],
      "metadata": {
        "id": "C2Y6PpAlDLR-"
      },
      "execution_count": null,
      "outputs": []
    },
    {
      "cell_type": "code",
      "source": [
        "# Perform ANOVA\n",
        "anova_result = f_oneway(*anova_data.values())\n",
        "\n",
        "# Print ANOVA results\n",
        "print(\"ANOVA Results:\")\n",
        "print(\"F-statistic:\", anova_result.statistic)\n",
        "print(\"p-value:\", anova_result.pvalue)\n",
        "\n",
        "# Interpretation:\n",
        "alpha = 0.05  # Set your significance level\n",
        "if anova_result.pvalue < alpha:\n",
        "    print(\"Reject null hypothesis: There is a significant difference in satisfaction scores based on delivery method.\")\n",
        "else:\n",
        "    print(\"Fail to reject null hypothesis: There is no significant difference in satisfaction scores based on delivery method.\")"
      ],
      "metadata": {
        "id": "r-yBzOiQ2Pv4",
        "colab": {
          "base_uri": "https://localhost:8080/"
        },
        "outputId": "d64ee1ef-f9fa-4145-849c-3c8255b095cd"
      },
      "execution_count": null,
      "outputs": [
        {
          "output_type": "stream",
          "name": "stdout",
          "text": [
            "ANOVA Results:\n",
            "F-statistic: 4.2748124262727325\n",
            "p-value: 0.013923626885785127\n",
            "Reject null hypothesis: There is a significant difference in satisfaction scores based on delivery method.\n"
          ]
        }
      ]
    },
    {
      "cell_type": "markdown",
      "source": [
        "**Interpretation of ANOVA Results:**\n",
        "F-statistic (4.2748):\n",
        "\n",
        "The F-statistic is a measure used in ANOVA to determine whether there are any statistically significant differences between the means of different groups.\n",
        "An F-statistic of 4.2748 indicates that the ratio of the variance between groups to the variance within groups is 4.2748. This value is compared against a critical value from the F-distribution table to determine statistical significance.\n",
        "p-value (0.0139):\n",
        "\n",
        "The p-value indicates the probability of obtaining an F-statistic at least as extreme as the one observed, assuming the null hypothesis is true.\n",
        "A p-value of 0.0139 is less than the common significance level of 0.05.\n",
        "Reject the null hypothesis:\n",
        "\n",
        "The null hypothesis in ANOVA typically states that there are no differences between the group means (i.e., all groups have the same mean satisfaction scores).\n",
        "Since the p-value (0.0139) is less than 0.05, we reject the null hypothesis.\n",
        "\n",
        "**Conclusion and Recommendations**\n",
        "\n",
        "Given that the ANOVA results show significant difference in satisfaction scores based on the delivery method, it’s recommended to adopt a flexible, hybrid approach that combines online, in-person, and blended learning. This allows students to choose the method that best suits their learning style and schedule, enhancing overall satisfaction. Enhancing online learning with interactivity and robust support, making in-person classes more engaging, and combining strengths in blended learning can address diverse student needs.\n",
        "\n",
        "To improve student satisfaction scores, institutions should regularly gather feedback through surveys and focus groups to make continuous improvements. Active learning strategies, strong academic and mental health support services, clear communication of expectations, and accessible resources are essential. Providing tech training and fostering a sense of community can further enhance the learning experience across all delivery methods."
      ],
      "metadata": {
        "id": "syqadNWuF9Px"
      }
    }
  ]
}