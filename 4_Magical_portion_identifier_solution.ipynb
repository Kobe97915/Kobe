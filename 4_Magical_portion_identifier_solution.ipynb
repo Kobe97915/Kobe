{
  "nbformat": 4,
  "nbformat_minor": 0,
  "metadata": {
    "colab": {
      "private_outputs": true,
      "provenance": [],
      "authorship_tag": "ABX9TyMeQvg/KhEBjGyOgOIoPVAc",
      "include_colab_link": true
    },
    "kernelspec": {
      "name": "python3",
      "display_name": "Python 3"
    },
    "language_info": {
      "name": "python"
    }
  },
  "cells": [
    {
      "cell_type": "markdown",
      "metadata": {
        "id": "view-in-github",
        "colab_type": "text"
      },
      "source": [
        "<a href=\"https://colab.research.google.com/github/Kobe97915/Kobe/blob/main/4_Magical_portion_identifier_solution.ipynb\" target=\"_parent\"><img src=\"https://colab.research.google.com/assets/colab-badge.svg\" alt=\"Open In Colab\"/></a>"
      ]
    },
    {
      "cell_type": "code",
      "execution_count": null,
      "metadata": {
        "id": "0eKQf9cfjaZK"
      },
      "outputs": [],
      "source": [
        "\n",
        "import math\n",
        "\n",
        "# Given power level\n",
        "power = 1132651201231\n",
        "\n",
        "# Compute the cube root and round it to the nearest integer\n",
        "cube_root = round(power ** (1/3))\n",
        "\n",
        "# Check if the cube of the rounded value equals the original number\n",
        "is_magical = cube_root ** 3 == power\n",
        "\n",
        "# Output result\n",
        "\"YES\" if is_magical else \"NO\""
      ]
    }
  ]
}