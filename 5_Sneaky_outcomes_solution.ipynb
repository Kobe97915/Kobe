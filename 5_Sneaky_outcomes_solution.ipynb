{
  "nbformat": 4,
  "nbformat_minor": 0,
  "metadata": {
    "colab": {
      "private_outputs": true,
      "provenance": [],
      "authorship_tag": "ABX9TyPOYoq0q/RyC8pTcxcEETha",
      "include_colab_link": true
    },
    "kernelspec": {
      "name": "python3",
      "display_name": "Python 3"
    },
    "language_info": {
      "name": "python"
    }
  },
  "cells": [
    {
      "cell_type": "markdown",
      "metadata": {
        "id": "view-in-github",
        "colab_type": "text"
      },
      "source": [
        "<a href=\"https://colab.research.google.com/github/Kobe97915/Kobe/blob/main/5_Sneaky_outcomes_solution.ipynb\" target=\"_parent\"><img src=\"https://colab.research.google.com/assets/colab-badge.svg\" alt=\"Open In Colab\"/></a>"
      ]
    },
    {
      "cell_type": "code",
      "execution_count": null,
      "metadata": {
        "id": "mgtVDmAbacMi"
      },
      "outputs": [],
      "source": [
        "from collections import Counter\n",
        "\n",
        "# Given outcomes array\n",
        "outcomes = [123456, 234567, 123347, 456789, 567890, 678901, 789012, 890123,\n",
        "            901234, 112233, 223344, 334455, 789012, 222234, 123347]\n",
        "\n",
        "# Count occurrences of each number\n",
        "counts = Counter(outcomes)\n",
        "\n",
        "# Find the two numbers that appear twice\n",
        "duplicates = [num for num, count in counts.items() if count == 2]\n",
        "\n",
        "# Output result\n",
        "duplicates\n"
      ]
    }
  ]
}